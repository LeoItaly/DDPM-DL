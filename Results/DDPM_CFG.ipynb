{
 "cells": [
  {
   "cell_type": "code",
   "execution_count": 3,
   "metadata": {},
   "outputs": [],
   "source": [
    "import torch\n",
    "from torch import optim\n",
    "from torch.utils.data import DataLoader\n",
    "import torchvision\n",
    "\n",
    "from torchvision import datasets\n",
    "from torchvision import transforms\n",
    "from torchvision.utils import make_grid\n",
    "\n",
    "from tqdm import tqdm\n",
    "#from torchinfo import summary\n",
    "\n",
    "import numpy as np\n",
    "import matplotlib.pyplot as plt\n",
    "\n",
    "import torch\n",
    "from torch.utils.data import DataLoader\n",
    "import tensorflow as tf\n",
    "import tensorflow_hub as tfhub\n",
    "import tensorflow_gan as tfgan\n",
    "import numpy as np\n",
    "from tqdm import tqdm\n",
    "import torch.nn.functional as F\n"
   ]
  },
  {
   "cell_type": "code",
   "execution_count": 4,
   "metadata": {},
   "outputs": [
    {
     "name": "stdout",
     "output_type": "stream",
     "text": [
      "GPU name: NVIDIA A100-PCIE-40GB \n",
      "\n"
     ]
    },
    {
     "data": {
      "text/plain": [
       "'cuda'"
      ]
     },
     "execution_count": 4,
     "metadata": {},
     "output_type": "execute_result"
    }
   ],
   "source": [
    "print('GPU name:', torch.cuda.get_device_name(), '\\n')\n",
    "device = 'cuda' if torch.cuda.is_available() else 'cpu'\n",
    "device"
   ]
  },
  {
   "cell_type": "markdown",
   "metadata": {},
   "source": [
    "# Load MNIST dataset\n"
   ]
  },
  {
   "cell_type": "code",
   "execution_count": 5,
   "metadata": {},
   "outputs": [],
   "source": [
    "rotation = 10\n",
    "translation = (0.1, 0.1)\n",
    "scaling = (0.9, 1.1)\n",
    "transform = transforms.Compose([transforms.Resize((32, 32)),\n",
    "                                transforms.RandomAffine(degrees=[-rotation, rotation], \n",
    "                                                        translate=translation, \n",
    "                                                        scale=scaling),\n",
    "    \n",
    "                                transforms.ToTensor(),\n",
    "                                transforms.Normalize(mean=(0.5,), std=(0.5,))])\n",
    "test_transform = transforms.Compose([transforms.Resize((32, 32)),\n",
    "                                transforms.ToTensor(),\n",
    "                                transforms.Normalize(mean=(0.5,), std=(0.5,))])\n",
    "\n",
    "\n",
    "training_dataset = datasets.MNIST(root='./data_src', train=True, download=True, transform=transform)\n",
    "test_dataset = datasets.MNIST(root='./data_src', train=False, download=True, transform=test_transform)"
   ]
  },
  {
   "cell_type": "code",
   "execution_count": 6,
   "metadata": {},
   "outputs": [
    {
     "name": "stdout",
     "output_type": "stream",
     "text": [
      "Training set size: 47995\n",
      "Validation set size: 12005\n",
      "Training digit distribution: {5: 4336, 0: 4738, 4: 4673, 1: 5393, 9: 4759, 2: 4766, 3: 4904, 6: 4734, 7: 5012, 8: 4680}\n",
      "Validation digit distribution: {5: 1085, 0: 1185, 4: 1169, 1: 1349, 9: 1190, 2: 1192, 3: 1227, 6: 1184, 7: 1253, 8: 1171}\n"
     ]
    }
   ],
   "source": [
    "from collections import defaultdict\n",
    "from torch.utils.data import Subset\n",
    "import numpy as np\n",
    "\n",
    "# Group indices of each digit in the training dataset\n",
    "digit_indices = defaultdict(list)\n",
    "for idx, (image, label) in enumerate(training_dataset):\n",
    "    digit_indices[label].append(idx)\n",
    "\n",
    "# Stratify split by digits\n",
    "train_indices = []\n",
    "val_indices = []\n",
    "\n",
    "for digit, indices in digit_indices.items():\n",
    "    np.random.shuffle(indices)  # Shuffle indices for each digit\n",
    "    split = int(0.8 * len(indices))  # 80% training, 20% validation\n",
    "    train_indices.extend(indices[:split])\n",
    "    val_indices.extend(indices[split:])\n",
    "\n",
    "# Create Subset datasets for training and validation\n",
    "train_dataset = Subset(training_dataset, train_indices)\n",
    "val_dataset = Subset(training_dataset, val_indices)\n",
    "\n",
    "print(f\"Training set size: {len(train_dataset)}\")\n",
    "print(f\"Validation set size: {len(val_dataset)}\")\n",
    "\n",
    "# Optional: Verify the distribution of digits\n",
    "train_digit_counts = defaultdict(int)\n",
    "val_digit_counts = defaultdict(int)\n",
    "\n",
    "for _, label in train_dataset:\n",
    "    train_digit_counts[label] += 1\n",
    "\n",
    "for _, label in val_dataset:\n",
    "    val_digit_counts[label] += 1\n",
    "\n",
    "print(\"Training digit distribution:\", dict(train_digit_counts))\n",
    "print(\"Validation digit distribution:\", dict(val_digit_counts))\n"
   ]
  },
  {
   "cell_type": "markdown",
   "metadata": {},
   "source": [
    "# Define dataloaders\n"
   ]
  },
  {
   "cell_type": "code",
   "execution_count": 7,
   "metadata": {},
   "outputs": [],
   "source": [
    "\n",
    "batch = 64\n",
    "\n",
    "training_dataloader = DataLoader(train_dataset, batch_size=batch, shuffle=True, drop_last=True,num_workers=4, pin_memory=True)\n",
    "val_dataloader = DataLoader(val_dataset, batch_size=batch, shuffle=False, drop_last=True,num_workers=4, pin_memory=True)\n",
    "\n",
    "test_dataloader = DataLoader(test_dataset, batch_size=batch, shuffle=False, drop_last=True,num_workers=4, pin_memory=True)"
   ]
  },
  {
   "cell_type": "markdown",
   "metadata": {},
   "source": [
    "# Linear Variance Scheduler\n"
   ]
  },
  {
   "cell_type": "code",
   "execution_count": 8,
   "metadata": {},
   "outputs": [],
   "source": [
    "class Linear_Variance_Scheduler:\n",
    "    def __init__(self, time_steps, beta_start, beta_end, device='cuda'):\n",
    "        \n",
    "        self.time_steps = time_steps\n",
    "        self.beta_start = beta_start\n",
    "        self.beta_end = beta_end\n",
    "        self.device = device\n",
    "        \n",
    "        self.betas = torch.linspace(self.beta_start, self.beta_end, self.time_steps).to(self.device)\n",
    "        self.alphas = 1 - self.betas\n",
    "        self.alpha_bar = torch.cumprod(self.alphas, dim=0)\n",
    "        self.sqrt_alpha_bar = torch.sqrt(self.alpha_bar)\n",
    "        self.sqrt_one_minus_alpha_bar = torch.sqrt(1 - self.alpha_bar)\n",
    "        \n",
    "    def diffusion_process(self, x, noise, t):\n",
    "        t = torch.clamp(t, max=self.time_steps - 1)  # Ensure t is within bounds\n",
    "        sqrt_alpha_bar = self.sqrt_alpha_bar[t][:, None, None, None]\n",
    "        sqrt_one_minus_alpha_bar = self.sqrt_one_minus_alpha_bar[t][:, None, None, None]\n",
    "        return sqrt_alpha_bar * x + sqrt_one_minus_alpha_bar * noise\n",
    "    \n",
    "    # Reverse process\n",
    "    def ddpm_sampling(self, model, num_samples, sample_steps, channels, img_size, wanted_class=None, guidance_scale=2.0):\n",
    "        model.eval()\n",
    "        model = model.to(self.device)\n",
    "        if wanted_class is not None:\n",
    "            wanted_class = wanted_class.to(self.device)\n",
    "            \n",
    "        with torch.inference_mode():\n",
    "            x = torch.randn((num_samples, channels, img_size, img_size)).to(self.device)\n",
    "            collect = {}\n",
    "            for i in tqdm(reversed(range(self.time_steps))):\n",
    "                t = (torch.ones(num_samples) * i).long().to(self.device)\n",
    "\n",
    "                if wanted_class is not None and guidance_scale > 1.0:\n",
    "                    # Unconditional prediction\n",
    "                    pred_noise_uncond = model(x, None, t)\n",
    "                    # Conditional prediction\n",
    "                    pred_noise_cond = model(x, wanted_class, t)\n",
    "                    # Apply classifier-free guidance\n",
    "                    pred_noise = pred_noise_uncond + guidance_scale * (pred_noise_cond - pred_noise_uncond)\n",
    "                else:\n",
    "                    # If no class or guidance_scale = 1, just do one pass\n",
    "                    if wanted_class is not None:\n",
    "                        pred_noise = model(x, wanted_class, t)\n",
    "                    else:\n",
    "                        pred_noise = model(x, None, t)\n",
    "\n",
    "                alphas = self.alphas[t][:, None, None, None]\n",
    "                alpha_bar = self.alpha_bar[t][:, None, None, None]\n",
    "                betas = self.betas[t][:, None, None, None]\n",
    "\n",
    "                if i > 1:\n",
    "                    noise = torch.randn_like(x)\n",
    "                else:\n",
    "                    noise = torch.zeros_like(x)\n",
    "\n",
    "                x = (1 / torch.sqrt(alphas)) * (x - ((1 - alphas) / (torch.sqrt(1 - alpha_bar))) * pred_noise) +\\\n",
    "                    torch.sqrt(betas) * noise\n",
    "\n",
    "                if i in sample_steps:\n",
    "                    collect[i] = x.detach().cpu()\n",
    "\n",
    "        return x, collect"
   ]
  },
  {
   "cell_type": "code",
   "execution_count": 9,
   "metadata": {},
   "outputs": [],
   "source": [
    "import math\n",
    "import torch\n",
    "import torch.nn as nn\n",
    "import torch.nn.functional as F\n",
    "from tqdm import tqdm\n",
    "\n",
    "class Cosine_Variance_Scheduler:\n",
    "    def __init__(self, time_steps, s=0.008, device='cuda'):\n",
    "        self.time_steps = time_steps\n",
    "        self.s = s\n",
    "        self.device = device\n",
    "\n",
    "        steps = torch.arange(self.time_steps + 1, dtype=torch.float64, device=self.device)  # T+1 steps for cosine schedule\n",
    "        t = steps / self.time_steps\n",
    "\n",
    "        # Compute alpha_bar using cosine schedule\n",
    "        f = lambda t: torch.cos((t + self.s) / (1 + self.s) * math.pi / 2) ** 2\n",
    "        zero_t = torch.tensor(0.0, dtype=torch.float64, device=self.device)\n",
    "        alphas_cumprod = f(t) / f(zero_t)\n",
    "\n",
    "        # alphas_cumprod[0] corresponds to time step -1, so shift by 1\n",
    "        self.alpha_bar = alphas_cumprod[1:].float()  # [T]\n",
    "        \n",
    "        # Now compute alphas and betas\n",
    "        self.alphas = self.alpha_bar / torch.cat([torch.tensor([1.0], device=self.device), self.alpha_bar[:-1]])\n",
    "        self.betas = 1 - self.alphas\n",
    "\n",
    "        # Precompute square roots for efficiency\n",
    "        self.sqrt_alpha_bar = torch.sqrt(self.alpha_bar)\n",
    "        self.sqrt_one_minus_alpha_bar = torch.sqrt(1 - self.alpha_bar)\n",
    "        \n",
    "    def diffusion_process(self, x, noise, t):\n",
    "        t = torch.clamp(t, max=self.time_steps - 1)  # Ensure t is within bounds\n",
    "        sqrt_alpha_bar = self.sqrt_alpha_bar[t][:, None, None, None]\n",
    "        sqrt_one_minus_alpha_bar = self.sqrt_one_minus_alpha_bar[t][:, None, None, None]\n",
    "        return sqrt_alpha_bar * x + sqrt_one_minus_alpha_bar * noise\n",
    "    \n",
    "    # Reverse process (updated to store samples like Linear_Variance_Scheduler)\n",
    "    def ddpm_sampling(self, model, num_samples, sample_steps, channels, img_size, wanted_class=None):\n",
    "        model.eval()\n",
    "        model = model.to(self.device)\n",
    "        if wanted_class is not None:\n",
    "            wanted_class = wanted_class.to(self.device)\n",
    "        \n",
    "        with torch.inference_mode():\n",
    "            x = torch.randn((num_samples, channels, img_size, img_size)).to(self.device)\n",
    "            collect = {}\n",
    "            for i in tqdm(reversed(range(self.time_steps))):\n",
    "                t = (torch.ones(num_samples) * i).long().to(self.device)\n",
    "                \n",
    "                if wanted_class is not None:\n",
    "                    pred_noise = model(x, wanted_class, t)\n",
    "                else:\n",
    "                    pred_noise = model(x,None, t)\n",
    "                \n",
    "                alphas = self.alphas[t][:, None, None, None]\n",
    "                alpha_bar = self.alpha_bar[t][:, None, None, None]\n",
    "                betas = self.betas[t][:, None, None, None]\n",
    "                \n",
    "                if i > 1:\n",
    "                    noise = torch.randn_like(x)\n",
    "                else:\n",
    "                    noise = torch.zeros_like(x)\n",
    "                \n",
    "                x = (1 / torch.sqrt(alphas)) * (x - ((1 - alphas) / (torch.sqrt(1 - alpha_bar))) * pred_noise) +\\\n",
    "                    torch.sqrt(betas) * noise\n",
    "                \n",
    "                # Save the sample if i is in sample_steps\n",
    "                if i in sample_steps:\n",
    "                    collect[i] = x.detach().cpu()\n",
    "                    \n",
    "        return x, collect\n"
   ]
  },
  {
   "cell_type": "markdown",
   "metadata": {},
   "source": [
    "# Forward process output\n"
   ]
  },
  {
   "cell_type": "code",
   "execution_count": 10,
   "metadata": {},
   "outputs": [],
   "source": [
    "t_step = torch.linspace(start=0, end=1000-1, steps=11).long()\n",
    "get_img = training_dataset[0][0]\n",
    "\n",
    "get_img_stack = torch.stack([get_img]*11)\n",
    "get_noise_stack = torch.randn_like(get_img_stack)"
   ]
  },
  {
   "cell_type": "code",
   "execution_count": 11,
   "metadata": {},
   "outputs": [],
   "source": [
    "noisy_img_stack = Linear_Variance_Scheduler(time_steps=1000, beta_start=0.0001, beta_end=0.02,\n",
    "                                            device='cpu').diffusion_process(get_img_stack, get_noise_stack, t_step)"
   ]
  },
  {
   "cell_type": "markdown",
   "metadata": {},
   "source": [
    "### Play with forward parameters"
   ]
  },
  {
   "cell_type": "markdown",
   "metadata": {},
   "source": [
    "#### U-net Architecture:\n",
    "- Resblock\n",
    "- SelfAttentionBlock\n",
    "- Downblock\n",
    "- Upblock"
   ]
  },
  {
   "cell_type": "markdown",
   "metadata": {},
   "source": [
    "# Create ResBlock"
   ]
  },
  {
   "cell_type": "code",
   "execution_count": 12,
   "metadata": {},
   "outputs": [],
   "source": [
    "import torch\n",
    "import torch.nn as nn\n",
    "\n",
    "def _find_closest_divisor_to_8(ch):\n",
    "    # If divisible by 8, return 8\n",
    "    if ch % 8 == 0:\n",
    "        return 8\n",
    "    \n",
    "    # Find all divisors of ch\n",
    "    divisors = [d for d in range(1, ch + 1) if ch % d == 0]\n",
    "    \n",
    "    # filter out options that are lower than 8\n",
    "    divisors = [d for d in divisors if d >= 8]\n",
    "    \n",
    "    # Find the divisor closest to 8)\n",
    "    closest = min(divisors, key=lambda x: abs(x - 8))\n",
    "    return closest\n",
    "\n",
    "class ResBlock(nn.Module):\n",
    "    def __init__(self, inp_ch, out_ch, mid_ch=None, residual=False):\n",
    "        super(ResBlock, self).__init__()\n",
    "        \n",
    "        self.residual = residual\n",
    "        if not mid_ch:\n",
    "            mid_ch = out_ch\n",
    "        \n",
    "        # Determine the number of groups for GroupNorm layers\n",
    "        groups_for_mid = _find_closest_divisor_to_8(mid_ch)\n",
    "        groups_for_out = _find_closest_divisor_to_8(out_ch)\n",
    "        \n",
    "        self.resnet_conv = nn.Sequential()\n",
    "        self.resnet_conv.add_module('conv1', nn.Conv2d(in_channels=inp_ch, out_channels=mid_ch, kernel_size=3, stride=1, padding=1))\n",
    "        self.resnet_conv.add_module('gnor1', nn.GroupNorm(num_groups=groups_for_mid, num_channels=mid_ch))\n",
    "        self.resnet_conv.add_module('silu1', nn.SiLU())\n",
    "        self.resnet_conv.add_module('conv2', nn.Conv2d(in_channels=mid_ch, out_channels=out_ch, kernel_size=3, stride=1, padding=1))\n",
    "        self.resnet_conv.add_module('gnor2', nn.GroupNorm(num_groups=groups_for_out, num_channels=out_ch))\n",
    "        \n",
    "    def forward(self, x):\n",
    "        if self.residual:\n",
    "            return x + self.resnet_conv(x)\n",
    "        else:\n",
    "            return self.resnet_conv(x)\n"
   ]
  },
  {
   "cell_type": "markdown",
   "metadata": {},
   "source": [
    "# Create SelfAttentionBlock"
   ]
  },
  {
   "cell_type": "code",
   "execution_count": 13,
   "metadata": {},
   "outputs": [],
   "source": [
    "class SelfAttentionBlock(nn.Module):\n",
    "    def __init__(self, channels):\n",
    "        super(SelfAttentionBlock, self).__init__()\n",
    "        \n",
    "        self.attn_norm = nn.GroupNorm(num_groups=8, num_channels=channels)\n",
    "        self.mha = nn.MultiheadAttention(embed_dim=channels, num_heads=4, batch_first=True)\n",
    "        \n",
    "    def forward(self, x):\n",
    "        b, c, h, w = x.shape\n",
    "        inp_attn = x.reshape(b, c, h*w)\n",
    "        inp_attn = self.attn_norm(inp_attn)\n",
    "        inp_attn = inp_attn.transpose(1, 2)\n",
    "        out_attn, _ = self.mha(inp_attn, inp_attn, inp_attn)\n",
    "        out_attn = out_attn.transpose(1, 2).reshape(b, c, h, w)\n",
    "        return x + out_attn"
   ]
  },
  {
   "cell_type": "markdown",
   "metadata": {},
   "source": [
    "# Create DownBlock"
   ]
  },
  {
   "cell_type": "code",
   "execution_count": 14,
   "metadata": {},
   "outputs": [],
   "source": [
    "class DownBlock(nn.Module):\n",
    "    def __init__(self, inp_ch, out_ch, t_emb_dim=256):\n",
    "        super(DownBlock, self).__init__()\n",
    "        \n",
    "        self.down = nn.Sequential(\n",
    "            nn.MaxPool2d(kernel_size=2, stride=2),\n",
    "            ResBlock(inp_ch=inp_ch, out_ch=inp_ch, residual=True),\n",
    "            ResBlock(inp_ch=inp_ch, out_ch=out_ch)\n",
    "        )\n",
    "        \n",
    "        self.t_emb_layers = nn.Sequential()\n",
    "        self.t_emb_layers.add_module('silu1', nn.SiLU())\n",
    "        self.t_emb_layers.add_module('linr1', nn.Linear(in_features=t_emb_dim, out_features=out_ch))\n",
    "        \n",
    "    def forward(self, x, t):\n",
    "        x = self.down(x)\n",
    "        t_emb = self.t_emb_layers(t)[:, :, None, None].repeat(1, 1, x.shape[2], x.shape[3])\n",
    "        return x + t_emb"
   ]
  },
  {
   "cell_type": "markdown",
   "metadata": {},
   "source": [
    "# Create UpBlock"
   ]
  },
  {
   "cell_type": "code",
   "execution_count": 15,
   "metadata": {},
   "outputs": [],
   "source": [
    "class UpBlock(nn.Module):\n",
    "    def __init__(self, inp_ch, out_ch, t_emb_dim=256):\n",
    "        super(UpBlock, self).__init__()\n",
    "        \n",
    "        self.upsamp = nn.UpsamplingBilinear2d(scale_factor=2)\n",
    "        self.up = nn.Sequential(\n",
    "            ResBlock(inp_ch=inp_ch, out_ch=inp_ch, residual=True),\n",
    "            ResBlock(inp_ch=inp_ch, out_ch=out_ch, mid_ch=inp_ch//2)\n",
    "        )\n",
    "        \n",
    "        self.t_emb_layers = nn.Sequential()\n",
    "        self.t_emb_layers.add_module('silu1', nn.SiLU())\n",
    "        self.t_emb_layers.add_module('linr1', nn.Linear(in_features=t_emb_dim, out_features=out_ch))\n",
    "        \n",
    "    def forward(self, x, skip, t):\n",
    "        x = self.upsamp(x)\n",
    "        x = torch.cat([skip, x], dim=1)\n",
    "        x = self.up(x)\n",
    "        t_emb = self.t_emb_layers(t)[:, :, None, None].repeat(1, 1, x.shape[2], x.shape[3])\n",
    "        return x + t_emb"
   ]
  },
  {
   "cell_type": "markdown",
   "metadata": {},
   "source": [
    "# UNet Architecture"
   ]
  },
  {
   "cell_type": "code",
   "execution_count": 16,
   "metadata": {},
   "outputs": [],
   "source": [
    "class UNet(nn.Module):\n",
    "    def __init__(self, t_emb_dim, device='cuda'):\n",
    "        super(UNet, self).__init__()\n",
    "        \n",
    "        self.device = device\n",
    "        self.t_emb_dim = t_emb_dim\n",
    "        \n",
    "        self.inp = ResBlock(inp_ch=1, out_ch=64)\n",
    "        self.down1 = DownBlock(inp_ch=64, out_ch=128)\n",
    "        self.sa1 = SelfAttentionBlock(channels=128)\n",
    "        self.down2 = DownBlock(inp_ch=128, out_ch=256)\n",
    "        self.sa2 = SelfAttentionBlock(channels=256)\n",
    "        self.down3 = DownBlock(inp_ch=256, out_ch=256)\n",
    "        self.sa3 = SelfAttentionBlock(channels=256)\n",
    "        \n",
    "        self.lat1 = ResBlock(inp_ch=256, out_ch=512)\n",
    "        self.lat2 = ResBlock(inp_ch=512, out_ch=512)\n",
    "        self.lat3 = ResBlock(inp_ch=512, out_ch=256)\n",
    "        \n",
    "        self.up1 = UpBlock(inp_ch=512, out_ch=128)\n",
    "        self.sa4 = SelfAttentionBlock(channels=128)\n",
    "        self.up2 = UpBlock(inp_ch=256, out_ch=64)\n",
    "        self.sa5 = SelfAttentionBlock(channels=64)\n",
    "        self.up3 = UpBlock(inp_ch=128, out_ch=64)\n",
    "        self.sa6 = SelfAttentionBlock(channels=64)\n",
    "        \n",
    "        self.out = nn.Conv2d(in_channels=64, out_channels=1, kernel_size=1)\n",
    "        \n",
    "    def position_embeddings(self, t, channels):\n",
    "        i = 1 / (10000 ** (torch.arange(start=0, end=channels, step=2) / channels))\n",
    "        pos_emb_sin = torch.sin(t.repeat(1, channels//2) * i)\n",
    "        pos_emb_cos = torch.cos(t.repeat(1, channels//2) * i)\n",
    "        pos_emb = torch.cat([pos_emb_sin, pos_emb_cos], dim=-1)\n",
    "        return pos_emb\n",
    "    \n",
    "    def forward(self, x, t):\n",
    "        t = t.unsqueeze(1).float()\n",
    "        t = self.position_embeddings(t, self.t_emb_dim)\n",
    "        \n",
    "        x1 = self.inp(x)\n",
    "        x2 = self.down1(x1, t)\n",
    "        x2 = self.sa1(x2)\n",
    "        x3 = self.down2(x2, t)\n",
    "        x3 = self.sa2(x3)\n",
    "        x4 = self.down3(x3, t)\n",
    "        x4 = self.sa3(x4)\n",
    "        \n",
    "        x4 = self.lat1(x4)\n",
    "        x4 = self.lat2(x4)\n",
    "        x4 = self.lat3(x4)\n",
    "        \n",
    "        x = self.up1(x4, x3, t)\n",
    "        x = self.sa4(x)\n",
    "        x = self.up2(x, x2, t)\n",
    "        x = self.sa5(x)\n",
    "        x = self.up3(x, x1, t)\n",
    "        x = self.sa6(x)\n",
    "        output = self.out(x)\n",
    "        return output"
   ]
  },
  {
   "cell_type": "markdown",
   "metadata": {},
   "source": [
    "# Conditional Unet"
   ]
  },
  {
   "cell_type": "code",
   "execution_count": 17,
   "metadata": {},
   "outputs": [],
   "source": [
    "import torch\n",
    "import torch.nn as nn\n",
    "import torch.nn.functional as F\n",
    "\n",
    "\n",
    "\n",
    "\n",
    "class CondUNet2(nn.Module):\n",
    "    def __init__(self, t_emb_dim, num_classes=10, class_embedding_size=4, device='cuda'):\n",
    "        super(CondUNet2, self).__init__()\n",
    "        \n",
    "        self.device = device\n",
    "        self.t_emb_dim = t_emb_dim\n",
    "        self.class_embedding_size = class_embedding_size\n",
    "        \n",
    "        self.class_embedding = nn.Embedding(num_classes, class_embedding_size)\n",
    "        \n",
    "        # No embedding before inp\n",
    "        self.inp = ResBlock(inp_ch=1+class_embedding_size, out_ch=64)\n",
    "        \n",
    "        # Down path (embedding before each down block)\n",
    "        # down1: input after embedding = 64 + 4 = 68 channels\n",
    "        self.down1 = DownBlock(inp_ch=64+class_embedding_size, out_ch=128)\n",
    "        self.sa1 = SelfAttentionBlock(channels=128)\n",
    "        \n",
    "        # down2: input after embedding = 128 + 4 = 132 channels\n",
    "        self.down2 = DownBlock(inp_ch=128+class_embedding_size, out_ch=256)\n",
    "        self.sa2 = SelfAttentionBlock(channels=256)\n",
    "        \n",
    "        # down3: input after embedding = 256 + 4 = 260 channels\n",
    "        self.down3 = DownBlock(inp_ch=256+class_embedding_size, out_ch=256)\n",
    "        self.sa3 = SelfAttentionBlock(channels=256)\n",
    "        \n",
    "        # Latent path (no embedding here)\n",
    "        self.lat1 = ResBlock(inp_ch=256+class_embedding_size, out_ch=512)\n",
    "        self.lat2 = ResBlock(inp_ch=512+class_embedding_size, out_ch=512)\n",
    "        self.lat3 = ResBlock(inp_ch=512+class_embedding_size, out_ch=256)\n",
    "        \n",
    "        # Up path (embedding before each up block)\n",
    "        # up1: after upsample and concat skip3 (256 from lat3 upsample + 256 from skip3) = 512 + 4 embedding = 516\n",
    "        self.up1 = UpBlock(inp_ch=512+class_embedding_size, out_ch=128) \n",
    "        # We'll handle concatenation logic carefully below.\n",
    "        self.sa4 = SelfAttentionBlock(channels=128)\n",
    "        \n",
    "        # up2: after up1 we have 128 channels, upsample to same dimension as skip2 (128),\n",
    "        # total 128+128=256 + 4 embedding = 260\n",
    "        self.up2 = UpBlock(inp_ch=256+class_embedding_size, out_ch=64)\n",
    "        self.sa5 = SelfAttentionBlock(channels=64)\n",
    "        \n",
    "        # up3: after up2 we have 64 channels, skip1 = 64, total 128 + 4 embedding = 132\n",
    "        self.up3 = UpBlock(inp_ch=128+class_embedding_size, out_ch=64)\n",
    "        self.sa6 = SelfAttentionBlock(channels=64)\n",
    "        \n",
    "        self.out = nn.Conv2d(in_channels=64, out_channels=1, kernel_size=1)\n",
    "        \n",
    "    def position_embeddings(self, t, channels):\n",
    "        i = 1 / (10000 ** (torch.arange(start=0, end=channels, step=2, device=self.device) / channels))\n",
    "        pos_emb_sin = torch.sin(t.repeat(1, channels//2) * i)\n",
    "        pos_emb_cos = torch.cos(t.repeat(1, channels//2) * i)\n",
    "        pos_emb = torch.cat([pos_emb_sin, pos_emb_cos], dim=-1)\n",
    "        return pos_emb\n",
    "    \n",
    "    def concat_class_cond(self, x, class_cond):\n",
    "        # x: [B, C, H, W]\n",
    "        # class_cond: [B, class_embedding_size]\n",
    "        B, _, H, W = x.shape\n",
    "        class_cond_map = class_cond.unsqueeze(-1).unsqueeze(-1).expand(B, class_cond.shape[1], H, W)\n",
    "        return torch.cat([x, class_cond_map], dim=1)\n",
    "    \n",
    "    def forward(self, x, label, t):\n",
    "        t = t.unsqueeze(1).float()\n",
    "        t = self.position_embeddings(t, self.t_emb_dim)\n",
    "        \n",
    "        \n",
    "        \n",
    "        if label is None:\n",
    "            # Use a zero embedding\n",
    "            class_cond = torch.zeros(x.shape[0], self.class_embedding_size, device=x.device)\n",
    "        else:\n",
    "            class_cond = self.class_embedding(label)\n",
    "        # --- Down Sampling ---\n",
    "        x = self.concat_class_cond(x, class_cond)\n",
    "        x1 = self.inp(x)\n",
    "        skip1 = x1\n",
    "        \n",
    "        # before down1\n",
    "        x1 = self.concat_class_cond(x1, class_cond) \n",
    "        x2 = self.down1(x1, t)\n",
    "        x2 = self.sa1(x2)\n",
    "        skip2 = x2\n",
    "        \n",
    "        # before down2\n",
    "        x2 = self.concat_class_cond(x2, class_cond)\n",
    "        x3 = self.down2(x2, t)\n",
    "        x3 = self.sa2(x3)\n",
    "        skip3 = x3\n",
    "        \n",
    "        # before down3\n",
    "        x3 = self.concat_class_cond(x3, class_cond)\n",
    "        x4 = self.down3(x3, t)\n",
    "        x4 = self.sa3(x4)\n",
    "        \n",
    "        \n",
    "        # Latent\n",
    "        x4 = self.concat_class_cond(x4, class_cond)\n",
    "        x4 = self.lat1(x4)\n",
    "        \n",
    "        x4 = self.concat_class_cond(x4, class_cond)\n",
    "        x4 = self.lat2(x4)\n",
    "        \n",
    "        x4 = self.concat_class_cond(x4, class_cond)\n",
    "        x4 = self.lat3(x4)\n",
    "        \n",
    "       \n",
    "\n",
    "        x4 = self.concat_class_cond(x4, class_cond)\n",
    "        x = self.up1(x4, skip3, t)\n",
    "        \n",
    "        x = self.sa4(x)\n",
    "\n",
    "        \n",
    "        x = self.concat_class_cond(x, class_cond)\n",
    "        x = self.up2(x, skip2, t)\n",
    "        x = self.sa5(x)          \n",
    "        \n",
    "        \n",
    "        x = self.concat_class_cond(x, class_cond)\n",
    "        x = self.up3(x, skip1, t) \n",
    "        x = self.sa6(x)           \n",
    "        \n",
    "        x = self.out(x)          \n",
    "        return x\n",
    "   \n"
   ]
  },
  {
   "cell_type": "code",
   "execution_count": 18,
   "metadata": {},
   "outputs": [],
   "source": [
    "def initialize_weights(m):\n",
    "    if isinstance(m, nn.Embedding):\n",
    "        nn.init.xavier_uniform_(m.weight)\n",
    "    elif isinstance(m, nn.Linear):\n",
    "        nn.init.xavier_normal_(m.weight)\n",
    "        if m.bias is not None:\n",
    "            nn.init.constant_(m.bias, 0)\n",
    "    elif isinstance(m, nn.MultiheadAttention):\n",
    "        # in_proj_weight and in_proj_bias contains K, V and Q weights concatenated together for weights and biases.\n",
    "        # so this initializes all the weights.\n",
    "        nn.init.xavier_normal_(m.in_proj_weight)\n",
    "        if m.in_proj_bias is not None:\n",
    "            nn.init.constant_(m.in_proj_bias, 0)\n",
    "        # The same for m.out_proj.weight an bias\n",
    "        nn.init.xavier_normal_(m.out_proj.weight)\n",
    "        if m.out_proj.bias is not None:\n",
    "            nn.init.constant_(m.out_proj.bias, 0)\n",
    "    elif isinstance(m, nn.BatchNorm2d):\n",
    "        nn.init.constant_(m.weight, 1)\n",
    "        nn.init.constant_(m.bias, 0)\n",
    "\n"
   ]
  },
  {
   "cell_type": "code",
   "execution_count": 21,
   "metadata": {},
   "outputs": [],
   "source": []
  },
  {
   "cell_type": "markdown",
   "metadata": {},
   "source": [
    "# SET-UP"
   ]
  },
  {
   "cell_type": "code",
   "execution_count": 19,
   "metadata": {},
   "outputs": [],
   "source": [
    "\n",
    "\n",
    "# ddpm = Cosine_Variance_Scheduler(time_steps=1000)\n",
    "\n",
    "ddpm = Linear_Variance_Scheduler(time_steps=1000, beta_start=0.0001, beta_end=0.02)\n",
    "model = CondUNet2(t_emb_dim=256, num_classes=10, class_embedding_size=8).to(device)\n",
    "model = model.apply(initialize_weights)\n",
    "criterion = nn.MSELoss()\n",
    "optimizer = optim.Adam(model.parameters(), lr=0.001)"
   ]
  },
  {
   "cell_type": "markdown",
   "metadata": {},
   "source": [
    "# TRAINING"
   ]
  },
  {
   "cell_type": "code",
   "execution_count": 20,
   "metadata": {},
   "outputs": [
    {
     "name": "stderr",
     "output_type": "stream",
     "text": [
      "  0%|          | 0/749 [00:00<?, ?it/s]"
     ]
    },
    {
     "name": "stderr",
     "output_type": "stream",
     "text": [
      "100%|██████████| 749/749 [00:50<00:00, 14.93it/s]\n",
      "100%|██████████| 156/156 [00:07<00:00, 19.98it/s]\n"
     ]
    },
    {
     "name": "stdout",
     "output_type": "stream",
     "text": [
      "Epoch 1/30 | Training loss: 0.0744 | Test loss: 0.0317 | Learning Rate: 0.00100000\n"
     ]
    },
    {
     "name": "stderr",
     "output_type": "stream",
     "text": [
      "100%|██████████| 749/749 [00:49<00:00, 15.10it/s]\n",
      "100%|██████████| 156/156 [00:07<00:00, 20.29it/s]\n"
     ]
    },
    {
     "name": "stdout",
     "output_type": "stream",
     "text": [
      "Epoch 2/30 | Training loss: 0.0343 | Test loss: 0.0298 | Learning Rate: 0.00100000\n"
     ]
    },
    {
     "name": "stderr",
     "output_type": "stream",
     "text": [
      "100%|██████████| 749/749 [00:50<00:00, 14.94it/s]\n",
      "100%|██████████| 156/156 [00:07<00:00, 20.32it/s]\n"
     ]
    },
    {
     "name": "stdout",
     "output_type": "stream",
     "text": [
      "Epoch 3/30 | Training loss: 0.0322 | Test loss: 0.0267 | Learning Rate: 0.00080000\n"
     ]
    },
    {
     "name": "stderr",
     "output_type": "stream",
     "text": [
      "100%|██████████| 749/749 [00:49<00:00, 15.08it/s]\n",
      "100%|██████████| 156/156 [00:07<00:00, 20.32it/s]\n"
     ]
    },
    {
     "name": "stdout",
     "output_type": "stream",
     "text": [
      "Epoch 4/30 | Training loss: 0.0309 | Test loss: 0.0262 | Learning Rate: 0.00080000\n"
     ]
    },
    {
     "name": "stderr",
     "output_type": "stream",
     "text": [
      "100%|██████████| 749/749 [00:49<00:00, 15.07it/s]\n",
      "100%|██████████| 156/156 [00:07<00:00, 20.31it/s]\n"
     ]
    },
    {
     "name": "stdout",
     "output_type": "stream",
     "text": [
      "Epoch 5/30 | Training loss: 0.0300 | Test loss: 0.0245 | Learning Rate: 0.00080000\n"
     ]
    },
    {
     "name": "stderr",
     "output_type": "stream",
     "text": [
      "100%|██████████| 749/749 [00:49<00:00, 15.06it/s]\n",
      "100%|██████████| 156/156 [00:07<00:00, 19.85it/s]\n"
     ]
    },
    {
     "name": "stdout",
     "output_type": "stream",
     "text": [
      "Epoch 6/30 | Training loss: 0.0295 | Test loss: 0.0252 | Learning Rate: 0.00064000\n"
     ]
    },
    {
     "name": "stderr",
     "output_type": "stream",
     "text": [
      "100%|██████████| 749/749 [00:50<00:00, 14.78it/s]\n",
      "100%|██████████| 156/156 [00:07<00:00, 20.23it/s]\n"
     ]
    },
    {
     "name": "stdout",
     "output_type": "stream",
     "text": [
      "Epoch 7/30 | Training loss: 0.0284 | Test loss: 0.0238 | Learning Rate: 0.00064000\n"
     ]
    },
    {
     "name": "stderr",
     "output_type": "stream",
     "text": [
      "100%|██████████| 749/749 [00:50<00:00, 14.78it/s]\n",
      "100%|██████████| 156/156 [00:07<00:00, 20.25it/s]\n"
     ]
    },
    {
     "name": "stdout",
     "output_type": "stream",
     "text": [
      "Epoch 8/30 | Training loss: 0.0284 | Test loss: 0.0225 | Learning Rate: 0.00064000\n"
     ]
    },
    {
     "name": "stderr",
     "output_type": "stream",
     "text": [
      "100%|██████████| 749/749 [00:49<00:00, 15.07it/s]\n",
      "100%|██████████| 156/156 [00:07<00:00, 20.26it/s]\n"
     ]
    },
    {
     "name": "stdout",
     "output_type": "stream",
     "text": [
      "Epoch 9/30 | Training loss: 0.0277 | Test loss: 0.0223 | Learning Rate: 0.00051200\n"
     ]
    },
    {
     "name": "stderr",
     "output_type": "stream",
     "text": [
      "100%|██████████| 749/749 [00:50<00:00, 14.79it/s]\n",
      "100%|██████████| 156/156 [00:07<00:00, 20.28it/s]\n"
     ]
    },
    {
     "name": "stdout",
     "output_type": "stream",
     "text": [
      "Epoch 10/30 | Training loss: 0.0271 | Test loss: 0.0213 | Learning Rate: 0.00051200\n"
     ]
    },
    {
     "name": "stderr",
     "output_type": "stream",
     "text": [
      "100%|██████████| 749/749 [00:50<00:00, 14.93it/s]\n",
      "100%|██████████| 156/156 [00:07<00:00, 20.25it/s]\n"
     ]
    },
    {
     "name": "stdout",
     "output_type": "stream",
     "text": [
      "Epoch 11/30 | Training loss: 0.0266 | Test loss: 0.0220 | Learning Rate: 0.00051200\n"
     ]
    },
    {
     "name": "stderr",
     "output_type": "stream",
     "text": [
      "100%|██████████| 749/749 [00:49<00:00, 15.07it/s]\n",
      "100%|██████████| 156/156 [00:07<00:00, 20.30it/s]\n"
     ]
    },
    {
     "name": "stdout",
     "output_type": "stream",
     "text": [
      "Epoch 12/30 | Training loss: 0.0262 | Test loss: 0.0214 | Learning Rate: 0.00040960\n"
     ]
    },
    {
     "name": "stderr",
     "output_type": "stream",
     "text": [
      "100%|██████████| 749/749 [00:49<00:00, 15.04it/s]\n",
      "100%|██████████| 156/156 [00:07<00:00, 20.31it/s]\n"
     ]
    },
    {
     "name": "stdout",
     "output_type": "stream",
     "text": [
      "Epoch 13/30 | Training loss: 0.0260 | Test loss: 0.0214 | Learning Rate: 0.00040960\n"
     ]
    },
    {
     "name": "stderr",
     "output_type": "stream",
     "text": [
      "100%|██████████| 749/749 [00:49<00:00, 15.05it/s]\n",
      "100%|██████████| 156/156 [00:07<00:00, 20.28it/s]\n"
     ]
    },
    {
     "name": "stdout",
     "output_type": "stream",
     "text": [
      "Epoch 14/30 | Training loss: 0.0257 | Test loss: 0.0205 | Learning Rate: 0.00040960\n"
     ]
    },
    {
     "name": "stderr",
     "output_type": "stream",
     "text": [
      "100%|██████████| 749/749 [00:50<00:00, 14.86it/s]\n",
      "100%|██████████| 156/156 [00:07<00:00, 20.31it/s]\n"
     ]
    },
    {
     "name": "stdout",
     "output_type": "stream",
     "text": [
      "Epoch 15/30 | Training loss: 0.0255 | Test loss: 0.0205 | Learning Rate: 0.00032768\n"
     ]
    },
    {
     "name": "stderr",
     "output_type": "stream",
     "text": [
      "100%|██████████| 749/749 [00:49<00:00, 15.03it/s]\n",
      "100%|██████████| 156/156 [00:07<00:00, 20.19it/s]\n"
     ]
    },
    {
     "name": "stdout",
     "output_type": "stream",
     "text": [
      "Epoch 16/30 | Training loss: 0.0247 | Test loss: 0.0199 | Learning Rate: 0.00032768\n"
     ]
    },
    {
     "name": "stderr",
     "output_type": "stream",
     "text": [
      "100%|██████████| 749/749 [00:49<00:00, 15.06it/s]\n",
      "100%|██████████| 156/156 [00:07<00:00, 20.24it/s]\n"
     ]
    },
    {
     "name": "stdout",
     "output_type": "stream",
     "text": [
      "Epoch 17/30 | Training loss: 0.0249 | Test loss: 0.0198 | Learning Rate: 0.00032768\n"
     ]
    },
    {
     "name": "stderr",
     "output_type": "stream",
     "text": [
      "100%|██████████| 749/749 [00:49<00:00, 15.08it/s]\n",
      "100%|██████████| 156/156 [00:07<00:00, 20.27it/s]\n"
     ]
    },
    {
     "name": "stdout",
     "output_type": "stream",
     "text": [
      "Epoch 18/30 | Training loss: 0.0249 | Test loss: 0.0191 | Learning Rate: 0.00026214\n"
     ]
    },
    {
     "name": "stderr",
     "output_type": "stream",
     "text": [
      "100%|██████████| 749/749 [00:49<00:00, 15.07it/s]\n",
      "100%|██████████| 156/156 [00:07<00:00, 20.30it/s]\n"
     ]
    },
    {
     "name": "stdout",
     "output_type": "stream",
     "text": [
      "Epoch 19/30 | Training loss: 0.0240 | Test loss: 0.0191 | Learning Rate: 0.00026214\n"
     ]
    },
    {
     "name": "stderr",
     "output_type": "stream",
     "text": [
      "100%|██████████| 749/749 [00:50<00:00, 14.86it/s]\n",
      "100%|██████████| 156/156 [00:07<00:00, 19.95it/s]\n"
     ]
    },
    {
     "name": "stdout",
     "output_type": "stream",
     "text": [
      "Epoch 20/30 | Training loss: 0.0237 | Test loss: 0.0196 | Learning Rate: 0.00026214\n"
     ]
    },
    {
     "name": "stderr",
     "output_type": "stream",
     "text": [
      "100%|██████████| 749/749 [00:50<00:00, 14.84it/s]\n",
      "100%|██████████| 156/156 [00:07<00:00, 20.14it/s]\n"
     ]
    },
    {
     "name": "stdout",
     "output_type": "stream",
     "text": [
      "Epoch 21/30 | Training loss: 0.0240 | Test loss: 0.0185 | Learning Rate: 0.00020972\n"
     ]
    },
    {
     "name": "stderr",
     "output_type": "stream",
     "text": [
      "100%|██████████| 749/749 [00:50<00:00, 14.83it/s]\n",
      "100%|██████████| 156/156 [00:07<00:00, 19.90it/s]\n"
     ]
    },
    {
     "name": "stdout",
     "output_type": "stream",
     "text": [
      "Epoch 22/30 | Training loss: 0.0238 | Test loss: 0.0189 | Learning Rate: 0.00020972\n"
     ]
    },
    {
     "name": "stderr",
     "output_type": "stream",
     "text": [
      "100%|██████████| 749/749 [00:50<00:00, 14.91it/s]\n",
      "100%|██████████| 156/156 [00:07<00:00, 20.28it/s]\n"
     ]
    },
    {
     "name": "stdout",
     "output_type": "stream",
     "text": [
      "Epoch 23/30 | Training loss: 0.0234 | Test loss: 0.0182 | Learning Rate: 0.00020972\n"
     ]
    },
    {
     "name": "stderr",
     "output_type": "stream",
     "text": [
      "100%|██████████| 749/749 [00:49<00:00, 15.06it/s]\n",
      "100%|██████████| 156/156 [00:07<00:00, 19.90it/s]\n"
     ]
    },
    {
     "name": "stdout",
     "output_type": "stream",
     "text": [
      "Epoch 24/30 | Training loss: 0.0232 | Test loss: 0.0183 | Learning Rate: 0.00016777\n"
     ]
    },
    {
     "name": "stderr",
     "output_type": "stream",
     "text": [
      "100%|██████████| 749/749 [00:49<00:00, 15.09it/s]\n",
      "100%|██████████| 156/156 [00:07<00:00, 20.28it/s]\n"
     ]
    },
    {
     "name": "stdout",
     "output_type": "stream",
     "text": [
      "Epoch 25/30 | Training loss: 0.0229 | Test loss: 0.0184 | Learning Rate: 0.00016777\n"
     ]
    },
    {
     "name": "stderr",
     "output_type": "stream",
     "text": [
      "100%|██████████| 749/749 [00:49<00:00, 15.06it/s]\n",
      "100%|██████████| 156/156 [00:07<00:00, 20.27it/s]\n"
     ]
    },
    {
     "name": "stdout",
     "output_type": "stream",
     "text": [
      "Epoch 26/30 | Training loss: 0.0232 | Test loss: 0.0179 | Learning Rate: 0.00016777\n"
     ]
    },
    {
     "name": "stderr",
     "output_type": "stream",
     "text": [
      "100%|██████████| 749/749 [00:49<00:00, 15.08it/s]\n",
      "100%|██████████| 156/156 [00:07<00:00, 20.30it/s]\n"
     ]
    },
    {
     "name": "stdout",
     "output_type": "stream",
     "text": [
      "Epoch 27/30 | Training loss: 0.0232 | Test loss: 0.0178 | Learning Rate: 0.00013422\n"
     ]
    },
    {
     "name": "stderr",
     "output_type": "stream",
     "text": [
      "100%|██████████| 749/749 [00:49<00:00, 15.05it/s]\n",
      "100%|██████████| 156/156 [00:07<00:00, 20.25it/s]\n"
     ]
    },
    {
     "name": "stdout",
     "output_type": "stream",
     "text": [
      "Epoch 28/30 | Training loss: 0.0229 | Test loss: 0.0183 | Learning Rate: 0.00013422\n"
     ]
    },
    {
     "name": "stderr",
     "output_type": "stream",
     "text": [
      "100%|██████████| 749/749 [00:49<00:00, 15.09it/s]\n",
      "100%|██████████| 156/156 [00:07<00:00, 20.27it/s]\n"
     ]
    },
    {
     "name": "stdout",
     "output_type": "stream",
     "text": [
      "Epoch 29/30 | Training loss: 0.0230 | Test loss: 0.0174 | Learning Rate: 0.00013422\n"
     ]
    },
    {
     "name": "stderr",
     "output_type": "stream",
     "text": [
      "100%|██████████| 749/749 [00:49<00:00, 15.08it/s]\n",
      "100%|██████████| 156/156 [00:07<00:00, 20.26it/s]"
     ]
    },
    {
     "name": "stdout",
     "output_type": "stream",
     "text": [
      "Epoch 30/30 | Training loss: 0.0229 | Test loss: 0.0176 | Learning Rate: 0.00010737\n"
     ]
    },
    {
     "name": "stderr",
     "output_type": "stream",
     "text": [
      "\n"
     ]
    }
   ],
   "source": [
    "import numpy as np\n",
    "import torch\n",
    "from tqdm import tqdm\n",
    "from torch.optim.lr_scheduler import StepLR\n",
    "\n",
    "# Set random seeds for reproducibility\n",
    "torch.manual_seed(1111)\n",
    "torch.cuda.manual_seed(1111)\n",
    "torch.cuda.manual_seed_all(1111)\n",
    "np.random.seed(1111)\n",
    "\n",
    "n_epochs = 30\n",
    "training_loss, test_loss = [], []\n",
    "condition_weight = 0.2\n",
    "\n",
    "# Initialize optimizer and scheduler\n",
    "optimizer = torch.optim.Adam(model.parameters(), lr=0.001)\n",
    "scheduler = StepLR(optimizer, step_size=3, gamma=0.8)\n",
    "\n",
    "for epoch in range(n_epochs):\n",
    "    training_losses, test_losses = [], []\n",
    "\n",
    "    model.train()\n",
    "    for data, label in tqdm(training_dataloader):\n",
    "        data, label = data.to(device), label.to(device)\n",
    "        t = torch.randint(low=0, high=1000, size=(data.shape[0],)).to(device)\n",
    "        noise = torch.randn_like(data)\n",
    "        xt = ddpm.diffusion_process(x=data, noise=noise, t=t)\n",
    "\n",
    "        # Choose between conditional and unconditional prediction based on condition_weight\n",
    "        rand = torch.rand(1).item()\n",
    "        trng_batch_loss = 0\n",
    "        if rand > condition_weight:\n",
    "            # Conditional prediction\n",
    "            pred_noise_cond = model(xt, label, t)\n",
    "            trng_batch_loss =  criterion(noise, pred_noise_cond)\n",
    "        else:\n",
    "            # Unconditional prediction\n",
    "            pred_noise = model(xt, None, t)\n",
    "            trng_batch_loss =  criterion(noise, pred_noise)\n",
    "\n",
    "        optimizer.zero_grad()\n",
    "        trng_batch_loss.backward()\n",
    "        optimizer.step()\n",
    "        training_losses.append(trng_batch_loss.item())\n",
    "\n",
    "    training_per_epoch_loss = np.mean(training_losses)\n",
    "\n",
    "    model.eval()\n",
    "    with torch.inference_mode():\n",
    "        for data, label in tqdm(test_dataloader):\n",
    "            data, label = data.to(device), label.to(device)\n",
    "            t = torch.randint(low=0, high=1000, size=(data.shape[0],)).to(device)\n",
    "            noise = torch.randn_like(data)\n",
    "            xt = ddpm.diffusion_process(x=data, noise=noise, t=t)\n",
    "\n",
    "            # Conditional prediction during evaluation\n",
    "            pred_noise_cond = model(xt, label, t)\n",
    "            tst_batch_loss = (1 - condition_weight) * criterion(noise, pred_noise_cond)\n",
    "\n",
    "            # Unconditional prediction during evaluation\n",
    "            pred_noise = model(xt, None, t)\n",
    "            tst_batch_loss += condition_weight * criterion(noise, pred_noise)\n",
    "\n",
    "            test_losses.append(tst_batch_loss.item())\n",
    "\n",
    "        test_per_epoch_loss = np.mean(test_losses)\n",
    "\n",
    "    training_loss.append(training_per_epoch_loss)\n",
    "    test_loss.append(test_per_epoch_loss)\n",
    "\n",
    "    # Step the scheduler\n",
    "    scheduler.step()\n",
    "\n",
    "    # Optionally, print the current learning rate\n",
    "    current_lr = scheduler.get_last_lr()[0]\n",
    "    print(f'Epoch {epoch+1}/{n_epochs} | Training loss: {training_per_epoch_loss:.4f} | '\n",
    "          f'Test loss: {test_per_epoch_loss:.4f} | Learning Rate: {current_lr:.8f}')\n"
   ]
  },
  {
   "cell_type": "markdown",
   "metadata": {},
   "source": [
    "# Save and Load model after training"
   ]
  },
  {
   "cell_type": "code",
   "execution_count": 34,
   "metadata": {},
   "outputs": [],
   "source": [
    "# Save the model\n",
    "torch.save(model.state_dict(), 'Models/ddpm_CFG.pth')"
   ]
  },
  {
   "cell_type": "code",
   "execution_count": null,
   "metadata": {},
   "outputs": [],
   "source": [
    "model = CondUNet2(t_emb_dim=256, num_classes=10, class_embedding_size=8, device='cuda')\n",
    "# Load the saved state dictionary\n",
    "model.load_state_dict(torch.load('Models/ddpm_CFG.pth'))\n",
    "\n",
    "# Set the model to evaluation mode\n",
    "model.eval()"
   ]
  },
  {
   "cell_type": "markdown",
   "metadata": {},
   "source": [
    "# Random sampling from noise"
   ]
  },
  {
   "cell_type": "code",
   "execution_count": 21,
   "metadata": {},
   "outputs": [],
   "source": [
    "imgs = []\n"
   ]
  },
  {
   "cell_type": "code",
   "execution_count": 22,
   "metadata": {},
   "outputs": [
    {
     "name": "stderr",
     "output_type": "stream",
     "text": [
      "1000it [00:08, 115.34it/s]\n",
      "1000it [00:07, 139.79it/s]\n",
      "1000it [00:07, 140.13it/s]\n",
      "1000it [00:07, 139.96it/s]\n",
      "1000it [00:07, 140.02it/s]\n",
      "1000it [00:07, 140.28it/s]\n",
      "1000it [00:07, 140.32it/s]\n",
      "1000it [00:07, 140.18it/s]\n",
      "1000it [00:07, 140.27it/s]\n",
      "1000it [00:07, 140.31it/s]\n",
      "1000it [00:14, 71.36it/s]\n",
      "1000it [00:14, 71.40it/s]\n",
      "1000it [00:13, 71.43it/s]\n",
      "1000it [00:13, 71.46it/s]\n",
      "1000it [00:14, 71.40it/s]\n",
      "1000it [00:14, 71.37it/s]\n",
      "1000it [00:14, 71.42it/s]\n",
      "1000it [00:13, 71.52it/s]\n",
      "1000it [00:13, 71.51it/s]\n",
      "1000it [00:13, 71.49it/s]\n",
      "1000it [00:13, 71.47it/s]\n",
      "1000it [00:13, 71.49it/s]\n",
      "1000it [00:13, 71.46it/s]\n",
      "1000it [00:13, 71.44it/s]\n",
      "1000it [00:13, 71.46it/s]\n",
      "1000it [00:13, 71.44it/s]\n",
      "1000it [00:13, 71.45it/s]\n",
      "1000it [00:13, 71.46it/s]\n",
      "1000it [00:13, 71.46it/s]\n",
      "1000it [00:14, 71.42it/s]\n",
      "1000it [00:13, 71.43it/s]\n",
      "1000it [00:13, 71.44it/s]\n",
      "1000it [00:13, 71.43it/s]\n",
      "1000it [00:14, 71.43it/s]\n",
      "1000it [00:13, 71.44it/s]\n",
      "1000it [00:14, 71.39it/s]\n",
      "1000it [00:14, 71.42it/s]\n",
      "1000it [00:14, 71.41it/s]\n",
      "1000it [00:14, 71.38it/s]\n",
      "1000it [00:14, 71.41it/s]\n"
     ]
    }
   ],
   "source": [
    "step = 999\n",
    "ddpm = Linear_Variance_Scheduler(time_steps=1000, beta_start=0.0001, beta_end=0.02, device='cuda')\n",
    "\n",
    "\n",
    "guidance_scales = [0., 1.2,1.5 , 2.0]\n",
    "digits = [0,1,2,3,4,5, 6,7,8,9]\n",
    "\n",
    "for scale in guidance_scales:\n",
    "    for i in digits:\n",
    "        sampled_imgs, _ = ddpm.ddpm_sampling(model=model, \n",
    "                                             num_samples=1, \n",
    "                                             channels=1,\n",
    "                                             sample_steps=[step],\n",
    "                                             img_size=32,\n",
    "                                             wanted_class=torch.tensor([i], device='cuda'),\n",
    "                                             guidance_scale=scale)\n",
    "        imgs.append(sampled_imgs)\n",
    "    \n",
    "\n"
   ]
  },
  {
   "cell_type": "code",
   "execution_count": 23,
   "metadata": {},
   "outputs": [],
   "source": [
    "# flatten imgs\n",
    "imgs = torch.cat(imgs, dim=0)"
   ]
  },
  {
   "cell_type": "code",
   "execution_count": 24,
   "metadata": {},
   "outputs": [
    {
     "data": {
      "image/png": "[encoded data removed]",
      "text/plain": [
       "<Figure size 1000x1200 with 1 Axes>"
      ]
     },
     "metadata": {},
     "output_type": "display_data"
    }
   ],
   "source": [
    "import torch\n",
    "from torchvision.utils import make_grid\n",
    "import matplotlib.pyplot as plt\n",
    "\n",
    "# Assuming 'imgs' is a list or tensor of images with shape (N, C, H, W)\n",
    "# and 'nrow' is the number of images per row in the grid\n",
    "nrow = 10  # Number of images per row\n",
    "num_images = len(imgs)\n",
    "num_rows = (num_images + nrow - 1) // nrow  # Calculate the number of rows needed\n",
    "\n",
    "# Create a grid of images\n",
    "grid = make_grid(imgs, nrow=nrow, normalize=True)\n",
    "\n",
    "# Convert the grid to a NumPy array and transpose the dimensions for plotting\n",
    "grid_np = grid.permute(1, 2, 0).cpu().numpy()\n",
    "\n",
    "# Plot the grid\n",
    "fig, ax = plt.subplots(figsize=(10, 12))\n",
    "ax.imshow(grid_np, cmap='gray')\n",
    "ax.axis('off')\n",
    "\n",
    "\n",
    "\n",
    "# Add column labels\n",
    "for col in range(nrow):\n",
    "    col_label = f'{digits[col]}'\n",
    "    # Calculate the x position: center of each image in the column\n",
    "    x_pos = (col + 0.5) * (grid_np.shape[1] / nrow)\n",
    "    # ax.text(x_pos, -5, col_label, ha='center', va='bottom', fontsize=16, fontweight='bold')\n",
    "\n",
    "# Add row labels\n",
    "for row in range(num_rows):\n",
    "    row_label = f'{guidance_scales[row]}'\n",
    "    # Calculate the y position: center of each image in the row\n",
    "    y_pos = (row + 0.5) * (grid_np.shape[0] / num_rows)\n",
    "    ax.text(-5, y_pos, row_label, ha='right', va='center', fontsize=16, fontweight='bold')\n",
    "plt.show()"
   ]
  },
  {
   "cell_type": "markdown",
   "metadata": {},
   "source": [
    "# FID evaluation"
   ]
  },
  {
   "cell_type": "code",
   "execution_count": 26,
   "metadata": {},
   "outputs": [],
   "source": [
    "def prepare_images(sampled_imgs):\n",
    "    # Resize images from 32x32 to 28x28 using PyTorch\n",
    "    sampled_imgs_resized = F.interpolate(sampled_imgs, size=(28, 28), mode='bilinear', align_corners=False)\n",
    "\n",
    "    # Process resized images\n",
    "    sampled_imgs_np = sampled_imgs_resized.cpu().numpy()  # Convert to NumPy array\n",
    "    sampled_imgs_np = (sampled_imgs_np * 0.5) + 0.5       # Denormalize to [0, 1]\n",
    "    sampled_imgs_np = np.clip(sampled_imgs_np, 0, 1)      # Ensure values are within [0, 1]\n",
    "    sampled_imgs_np = np.transpose(sampled_imgs_np, (0, 2, 3, 1))  # Shape: (N, 28, 28, 1)\n",
    "\n",
    "    # Convert to TensorFlow tensor\n",
    "    sampled_imgs_tf = tf.convert_to_tensor(sampled_imgs_np, dtype=tf.float32)\n",
    "    return sampled_imgs_tf"
   ]
  },
  {
   "cell_type": "code",
   "execution_count": 27,
   "metadata": {},
   "outputs": [
    {
     "name": "stderr",
     "output_type": "stream",
     "text": [
      "2024-12-21 15:27:32.617406: W tensorflow/core/common_runtime/gpu/gpu_device.cc:2256] Cannot dlopen some GPU libraries. Please make sure the missing libraries mentioned above are installed properly if you would like to use GPU. Follow the guide at https://www.tensorflow.org/install/gpu for how to download and setup the required libraries for your platform.\n",
      "Skipping registering GPU devices...\n"
     ]
    },
    {
     "name": "stdout",
     "output_type": "stream",
     "text": [
      "Downloading http://yann.lecun.com/exdb/mnist/train-images-idx3-ubyte.gz\n",
      "Failed to download (trying next):\n",
      "HTTP Error 403: Forbidden\n",
      "\n",
      "Downloading https://ossci-datasets.s3.amazonaws.com/mnist/train-images-idx3-ubyte.gz\n",
      "Downloading https://ossci-datasets.s3.amazonaws.com/mnist/train-images-idx3-ubyte.gz to data/MNIST/raw/train-images-idx3-ubyte.gz\n"
     ]
    },
    {
     "name": "stderr",
     "output_type": "stream",
     "text": [
      "100%|██████████| 9912422/9912422 [00:04<00:00, 2037728.99it/s]\n"
     ]
    },
    {
     "name": "stdout",
     "output_type": "stream",
     "text": [
      "Extracting data/MNIST/raw/train-images-idx3-ubyte.gz to data/MNIST/raw\n",
      "\n",
      "Downloading http://yann.lecun.com/exdb/mnist/train-labels-idx1-ubyte.gz\n",
      "Failed to download (trying next):\n",
      "HTTP Error 403: Forbidden\n",
      "\n",
      "Downloading https://ossci-datasets.s3.amazonaws.com/mnist/train-labels-idx1-ubyte.gz\n",
      "Downloading https://ossci-datasets.s3.amazonaws.com/mnist/train-labels-idx1-ubyte.gz to data/MNIST/raw/train-labels-idx1-ubyte.gz\n"
     ]
    },
    {
     "name": "stderr",
     "output_type": "stream",
     "text": [
      "100%|██████████| 28881/28881 [00:00<00:00, 294302.98it/s]\n"
     ]
    },
    {
     "name": "stdout",
     "output_type": "stream",
     "text": [
      "Extracting data/MNIST/raw/train-labels-idx1-ubyte.gz to data/MNIST/raw\n",
      "\n",
      "Downloading http://yann.lecun.com/exdb/mnist/t10k-images-idx3-ubyte.gz\n",
      "Failed to download (trying next):\n",
      "HTTP Error 403: Forbidden\n",
      "\n",
      "Downloading https://ossci-datasets.s3.amazonaws.com/mnist/t10k-images-idx3-ubyte.gz\n",
      "Downloading https://ossci-datasets.s3.amazonaws.com/mnist/t10k-images-idx3-ubyte.gz to data/MNIST/raw/t10k-images-idx3-ubyte.gz\n"
     ]
    },
    {
     "name": "stderr",
     "output_type": "stream",
     "text": [
      "100%|██████████| 1648877/1648877 [00:00<00:00, 2779227.72it/s]\n"
     ]
    },
    {
     "name": "stdout",
     "output_type": "stream",
     "text": [
      "Extracting data/MNIST/raw/t10k-images-idx3-ubyte.gz to data/MNIST/raw\n",
      "\n",
      "Downloading http://yann.lecun.com/exdb/mnist/t10k-labels-idx1-ubyte.gz\n",
      "Failed to download (trying next):\n",
      "HTTP Error 403: Forbidden\n",
      "\n",
      "Downloading https://ossci-datasets.s3.amazonaws.com/mnist/t10k-labels-idx1-ubyte.gz\n",
      "Downloading https://ossci-datasets.s3.amazonaws.com/mnist/t10k-labels-idx1-ubyte.gz to data/MNIST/raw/t10k-labels-idx1-ubyte.gz\n"
     ]
    },
    {
     "name": "stderr",
     "output_type": "stream",
     "text": [
      "100%|██████████| 4542/4542 [00:00<00:00, 5355785.43it/s]\n"
     ]
    },
    {
     "name": "stdout",
     "output_type": "stream",
     "text": [
      "Extracting data/MNIST/raw/t10k-labels-idx1-ubyte.gz to data/MNIST/raw\n",
      "\n"
     ]
    }
   ],
   "source": [
    "# Load the pre-trained MNIST classifier\n",
    "MNIST_MODULE = \"https://tfhub.dev/tensorflow/tfgan/eval/mnist/logits/1\"\n",
    "mnist_classifier_fn = tfhub.load(MNIST_MODULE)\n",
    "\n",
    "\n",
    "# Define the classifier function\n",
    "def classifier_fn(images):\n",
    "    outputs = mnist_classifier_fn(images=images)\n",
    "    return outputs  # Outputs is a tensor of logits\n",
    "\n",
    "# Function to compute activations\n",
    "def compute_activations(images, num_batches, classifier_fn):\n",
    "    images_list = tf.split(images, num_or_size_splits=num_batches)\n",
    "    activations = []\n",
    "    for batch in images_list:\n",
    "        outputs = classifier_fn(images=batch)\n",
    "        activations.append(outputs)\n",
    "    activations = tf.concat(activations, axis=0)\n",
    "    return activations\n",
    "\n",
    "# Compute activations for real MNIST images\n",
    "def load_mnist():\n",
    "    ds = datasets.MNIST(\n",
    "        root=\"data\",\n",
    "        train=False,\n",
    "        download=True,\n",
    "        transform=transforms.Compose([\n",
    "            transforms.Resize((28, 28)),  # Ensure images are 28x28\n",
    "            transforms.ToTensor(),\n",
    "        ]),\n",
    "    )\n",
    "    dl = DataLoader(ds, batch_size=60000, shuffle=False)\n",
    "    x, _ = next(iter(dl))\n",
    "    x = x.numpy()  # Convert to NumPy array\n",
    "    x = np.transpose(x, (0, 2, 3, 1))  # Shape: (N, 28, 28, 1)\n",
    "    return tf.convert_to_tensor(x, dtype=tf.float32)\n",
    "\n",
    "def Calculate_FID_for_Conditional(generated_images, mnist, classifier_fn):\n",
    "    \n",
    "    sampled_imgs_tf = prepare_images(generated_images)\n",
    "    \n",
    "    activations_real = compute_activations(\n",
    "        mnist, num_batches=4, classifier_fn=classifier_fn)\n",
    "\n",
    "    # Compute activations for generated images\n",
    "    activations_fake = compute_activations(\n",
    "        sampled_imgs_tf, num_batches=1, classifier_fn=classifier_fn)\n",
    "\n",
    "    # Compute FID\n",
    "    fid = tfgan.eval.frechet_classifier_distance_from_activations(\n",
    "        activations_real, activations_fake)\n",
    "\n",
    "    return fid\n",
    "\n",
    "mnist_images_tf = load_mnist()\n",
    "\n"
   ]
  },
  {
   "cell_type": "code",
   "execution_count": 29,
   "metadata": {},
   "outputs": [
    {
     "name": "stderr",
     "output_type": "stream",
     "text": [
      "1000it [01:21, 12.30it/s]\n",
      "1000it [01:23, 11.97it/s]\n",
      "1000it [01:21, 12.31it/s]\n",
      "1000it [01:23, 11.99it/s]\n",
      "1000it [01:21, 12.28it/s]\n",
      "1000it [01:22, 12.16it/s]\n",
      "1000it [01:22, 12.13it/s]\n",
      "1000it [01:21, 12.27it/s]\n",
      "1000it [01:23, 11.98it/s]\n",
      "1000it [01:21, 12.27it/s]\n",
      "1000it [02:43,  6.10it/s]\n",
      "1000it [02:43,  6.10it/s]\n",
      "1000it [02:43,  6.11it/s]\n",
      "1000it [02:44,  6.10it/s]\n",
      "1000it [02:43,  6.11it/s]\n",
      "1000it [02:44,  6.10it/s]\n",
      "1000it [02:43,  6.10it/s]\n",
      "1000it [02:43,  6.10it/s]\n",
      "1000it [02:43,  6.10it/s]\n",
      "1000it [02:43,  6.10it/s]\n",
      "1000it [02:43,  6.11it/s]\n",
      "1000it [02:00,  8.32it/s]\n",
      "1000it [01:12, 13.73it/s]\n",
      "1000it [01:12, 13.72it/s]\n",
      "1000it [01:12, 13.72it/s]\n",
      "1000it [01:12, 13.72it/s]\n",
      "1000it [01:12, 13.72it/s]\n",
      "1000it [01:12, 13.72it/s]\n",
      "1000it [01:12, 13.72it/s]\n",
      "1000it [01:12, 13.72it/s]\n",
      "1000it [01:12, 13.72it/s]\n",
      "1000it [01:12, 13.72it/s]\n",
      "1000it [01:12, 13.72it/s]\n",
      "1000it [01:12, 13.72it/s]\n",
      "1000it [01:12, 13.72it/s]\n",
      "1000it [01:12, 13.72it/s]\n",
      "1000it [01:12, 13.72it/s]\n",
      "1000it [01:12, 13.72it/s]\n",
      "1000it [01:12, 13.72it/s]\n",
      "1000it [01:12, 13.72it/s]\n"
     ]
    },
    {
     "name": "stdout",
     "output_type": "stream",
     "text": [
      "Guidance Weight: -1.0 | FID: 6.8837\n",
      "Guidance Weight: 0.19999999999999996 | FID: 5.6304\n",
      "Guidance Weight: 0.5 | FID: 4.4608\n",
      "Guidance Weight: 1.0 | FID: 3.5565\n"
     ]
    }
   ],
   "source": [
    "step = 999\n",
    "ddpm = Linear_Variance_Scheduler(time_steps=1000, beta_start=0.0001, beta_end=0.02, device='cuda')\n",
    "\n",
    "guidance_weights = [0., 1.2,1.5 , 2.0]\n",
    "FID = {key: 0 for key in guidance_weights}\n",
    "for w in guidance_weights:\n",
    "    imgs = []\n",
    "    for i in range(10):\n",
    "    \n",
    "        sampled_imgs, _ = ddpm.ddpm_sampling(model=model, \n",
    "                                            num_samples=100, \n",
    "                                            channels=1,\n",
    "                                            sample_steps=[step],\n",
    "                                            img_size=32,\n",
    "                                            wanted_class=torch.tensor([i], device='cuda'),\n",
    "                                            guidance_scale=w)\n",
    "        imgs.append(sampled_imgs)\n",
    "        # flatten imgs\n",
    "    imgs = torch.cat(imgs, dim=0)\n",
    "        \n",
    "    fid = Calculate_FID_for_Conditional(imgs, mnist_images_tf, classifier_fn)\n",
    "\n",
    "    FID[w] = fid\n",
    "    \n"
   ]
  },
  {
   "cell_type": "code",
   "execution_count": 32,
   "metadata": {},
   "outputs": [
    {
     "name": "stdout",
     "output_type": "stream",
     "text": [
      "Unconditional | FID: 6.8837\n",
      "Guidance Weight: 0.2 | FID: 5.6304\n",
      "Guidance Weight: 0.5 | FID: 4.4608\n",
      "Guidance Weight: 1.0 | FID: 3.5565\n"
     ]
    }
   ],
   "source": [
    "for key, value in FID.items():\n",
    "    if key == 0:\n",
    "        print(f'Unconditional | FID: {value:.4f}')\n",
    "    else:\n",
    "        print(f'Guidance Weight: {key-1:0.2} | FID: {value:.4f}')"
   ]
  },
  {
   "cell_type": "code",
   "execution_count": null,
   "metadata": {},
   "outputs": [],
   "source": []
  }
 ],
 "metadata": {
  "kernelspec": {
   "display_name": "test-environment",
   "language": "python",
   "name": "python3"
  },
  "language_info": {
   "codemirror_mode": {
    "name": "ipython",
    "version": 3
   },
   "file_extension": ".py",
   "mimetype": "text/x-python",
   "name": "python",
   "nbconvert_exporter": "python",
   "pygments_lexer": "ipython3",
   "version": "3.9.18"
  }
 },
 "nbformat": 4,
 "nbformat_minor": 2
}
