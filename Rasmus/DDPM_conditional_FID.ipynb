{
 "cells": [
  {
   "cell_type": "code",
   "execution_count": 1,
   "metadata": {},
   "outputs": [],
   "source": [
    "import torch\n",
    "from torch import nn\n",
    "from torch import optim\n",
    "from torch.utils.data import DataLoader\n",
    "import torchvision\n",
    "\n",
    "from torchvision import datasets\n",
    "from torchvision import transforms\n",
    "from torchvision.utils import make_grid\n",
    "\n",
    "from tqdm import tqdm\n",
    "#from torchinfo import summary\n",
    "\n",
    "import numpy as np\n",
    "import matplotlib.pyplot as plt\n"
   ]
  },
  {
   "cell_type": "code",
   "execution_count": 2,
   "metadata": {},
   "outputs": [
    {
     "name": "stdout",
     "output_type": "stream",
     "text": [
      "GPU name: NVIDIA A100-PCIE-40GB \n",
      "\n"
     ]
    },
    {
     "data": {
      "text/plain": [
       "'cuda'"
      ]
     },
     "execution_count": 2,
     "metadata": {},
     "output_type": "execute_result"
    }
   ],
   "source": [
    "print('GPU name:', torch.cuda.get_device_name(), '\\n')\n",
    "device = 'cuda' if torch.cuda.is_available() else 'cpu'\n",
    "device"
   ]
  },
  {
   "cell_type": "markdown",
   "metadata": {},
   "source": [
    "# Load MNIST dataset\n"
   ]
  },
  {
   "cell_type": "code",
   "execution_count": 3,
   "metadata": {},
   "outputs": [],
   "source": [
    "rotation = 10\n",
    "translation = (0.1, 0.1)\n",
    "scaling = (0.9, 1.1)\n",
    "transform = transforms.Compose([transforms.Resize((32, 32)),\n",
    "                                transforms.RandomAffine(degrees=[-rotation, rotation], \n",
    "                                                        translate=translation, \n",
    "                                                        scale=scaling),\n",
    "    \n",
    "                                transforms.ToTensor(),\n",
    "                                transforms.Normalize(mean=(0.5,), std=(0.5,))])\n",
    "test_transform = transforms.Compose([transforms.Resize((32, 32)),\n",
    "                                transforms.ToTensor(),\n",
    "                                transforms.Normalize(mean=(0.5,), std=(0.5,))])\n",
    "\n",
    "\n",
    "training_dataset = datasets.MNIST(root='./data_src', train=True, download=True, transform=transform)\n",
    "test_dataset = datasets.MNIST(root='./data_src', train=False, download=True, transform=test_transform)"
   ]
  },
  {
   "cell_type": "markdown",
   "metadata": {},
   "source": [
    "# Define dataloaders\n"
   ]
  },
  {
   "cell_type": "code",
   "execution_count": 4,
   "metadata": {},
   "outputs": [],
   "source": [
    "\n",
    "batch = 100\n",
    "\n",
    "training_dataloader = DataLoader(training_dataset, batch_size=batch, shuffle=True, drop_last=True,num_workers=4)\n",
    "test_dataloader = DataLoader(test_dataset, batch_size=batch, shuffle=False, drop_last=True,num_workers=4)"
   ]
  },
  {
   "cell_type": "code",
   "execution_count": 5,
   "metadata": {},
   "outputs": [
    {
     "data": {
      "text/plain": [
       "(-0.5, 273.5, 443.5, -0.5)"
      ]
     },
     "execution_count": 5,
     "metadata": {},
     "output_type": "execute_result"
    },
    {
     "data": {
      "image/png": "[encoded data removed]",
      "text/plain": [
       "<Figure size 1200x200 with 1 Axes>"
      ]
     },
     "metadata": {},
     "output_type": "display_data"
    }
   ],
   "source": [
    "images = next(iter(training_dataloader))[0]\n",
    "images = next(iter(training_dataloader))[0]\n",
    "\n",
    "grid = make_grid(images, nrow=8, normalize=True)\n",
    "plt.figure(figsize=(12, 2))\n",
    "plt.imshow(grid.permute(1, 2, 0), cmap='gray')\n",
    "plt.axis(False)"
   ]
  },
  {
   "cell_type": "markdown",
   "metadata": {},
   "source": [
    "# Define Linear_Variance_Scheduler\n"
   ]
  },
  {
   "cell_type": "code",
   "execution_count": 6,
   "metadata": {},
   "outputs": [],
   "source": [
    "class Linear_Variance_Scheduler:\n",
    "    def __init__(self, time_steps, beta_start, beta_end, device='cuda'):\n",
    "        \n",
    "        self.time_steps = time_steps\n",
    "        self.beta_start = beta_start\n",
    "        self.beta_end = beta_end\n",
    "        self.device = device\n",
    "        \n",
    "        self.betas = torch.linspace(self.beta_start, self.beta_end, self.time_steps).to(self.device)\n",
    "        self.alphas = 1 - self.betas\n",
    "        self.alpha_bar = torch.cumprod(self.alphas, dim=0)\n",
    "        self.sqrt_alpha_bar = torch.sqrt(self.alpha_bar)\n",
    "        self.sqrt_one_minus_alpha_bar = torch.sqrt(1 - self.alpha_bar)\n",
    "        \n",
    "    def diffusion_process(self, x, noise, t):\n",
    "        t = torch.clamp(t, max=self.time_steps - 1)  # Ensure t is within bounds\n",
    "        sqrt_alpha_bar = self.sqrt_alpha_bar[t][:, None, None, None]\n",
    "        sqrt_one_minus_alpha_bar = self.sqrt_one_minus_alpha_bar[t][:, None, None, None]\n",
    "        return sqrt_alpha_bar * x + sqrt_one_minus_alpha_bar * noise\n",
    "    \n",
    "    # Reverse process\n",
    "    def ddpm_sampling(self, model, num_samples,sample_steps, channels, img_size, wanted_class=None):\n",
    "        model.eval()\n",
    "        model = model.to(self.device)\n",
    "        wanted_class = wanted_class.to(self.device)\n",
    "        with torch.inference_mode():\n",
    "            x = torch.randn((num_samples, channels, img_size, img_size)).to(self.device)\n",
    "            collect = {}\n",
    "            for i in tqdm(reversed(range(self.time_steps))):\n",
    "                t = (torch.ones(num_samples) * i).long().to(self.device)\n",
    "                pred_noise = {}\n",
    "\n",
    "                if wanted_class is not None:\n",
    "                    pred_noise = model(x, wanted_class,t)\n",
    "                else:\n",
    "                    pred_noise = model(x, t)\n",
    "                alphas = self.alphas[t][:, None, None, None]\n",
    "                alpha_bar = self.alpha_bar[t][:, None, None, None]\n",
    "                betas = self.betas[t][:, None, None, None]\n",
    "                if i > 1:\n",
    "                    noise = torch.randn_like(x)\n",
    "                else:\n",
    "                    noise = torch.zeros_like(x)\n",
    "                x = 1 / torch.sqrt(alphas) * (x - ((1 - alphas) / (torch.sqrt(1 - alpha_bar))) * pred_noise) +\\\n",
    "                    torch.sqrt(betas) * noise\n",
    "                if i in sample_steps:\n",
    "                    collect[i] = x.detach().cpu()\n",
    "        return x, collect"
   ]
  },
  {
   "cell_type": "markdown",
   "metadata": {},
   "source": [
    "# Forward process output\n"
   ]
  },
  {
   "cell_type": "code",
   "execution_count": 7,
   "metadata": {},
   "outputs": [],
   "source": [
    "t_step = torch.linspace(start=0, end=1000-1, steps=11).long()\n",
    "get_img = training_dataset[0][0]\n",
    "\n",
    "get_img_stack = torch.stack([get_img]*11)\n",
    "get_noise_stack = torch.randn_like(get_img_stack)"
   ]
  },
  {
   "cell_type": "code",
   "execution_count": 8,
   "metadata": {},
   "outputs": [],
   "source": [
    "noisy_img_stack = Linear_Variance_Scheduler(time_steps=1000, beta_start=0.0001, beta_end=0.02,\n",
    "                                            device='cpu').diffusion_process(get_img_stack, get_noise_stack, t_step)"
   ]
  },
  {
   "cell_type": "markdown",
   "metadata": {},
   "source": [
    "### Play with forward parameters"
   ]
  },
  {
   "cell_type": "markdown",
   "metadata": {},
   "source": [
    "#### U-net Architecture:\n",
    "- Resblock\n",
    "- SelfAttentionBlock\n",
    "- Downblock\n",
    "- Upblock"
   ]
  },
  {
   "cell_type": "markdown",
   "metadata": {},
   "source": [
    "# Create ResBlock"
   ]
  },
  {
   "cell_type": "code",
   "execution_count": 9,
   "metadata": {},
   "outputs": [],
   "source": [
    "class ResBlock(nn.Module):\n",
    "    def __init__(self, inp_ch, out_ch, mid_ch=None, residual=False):\n",
    "        super(ResBlock, self).__init__()\n",
    "        \n",
    "        self.residual = residual\n",
    "        if not mid_ch:\n",
    "            mid_ch = out_ch\n",
    "        self.resnet_conv = nn.Sequential()\n",
    "        self.resnet_conv.add_module('conv1', nn.Conv2d(in_channels=inp_ch, out_channels=mid_ch, kernel_size=3, stride=1,\n",
    "                                                       padding=1))\n",
    "        self.resnet_conv.add_module('gnor1', nn.GroupNorm(num_groups=8, num_channels=mid_ch))\n",
    "        self.resnet_conv.add_module('silu1', nn.SiLU())\n",
    "        self.resnet_conv.add_module('conv2', nn.Conv2d(in_channels=mid_ch, out_channels=out_ch, kernel_size=3, stride=1,\n",
    "                                                       padding=1))\n",
    "        self.resnet_conv.add_module('gnor2', nn.GroupNorm(num_groups=8, num_channels=out_ch))\n",
    "        \n",
    "    def forward(self, x):\n",
    "        if self.residual:\n",
    "            return x + self.resnet_conv(x)\n",
    "        else:\n",
    "            return self.resnet_conv(x)"
   ]
  },
  {
   "cell_type": "markdown",
   "metadata": {},
   "source": [
    "# Create SelfAttentionBlock"
   ]
  },
  {
   "cell_type": "code",
   "execution_count": 10,
   "metadata": {},
   "outputs": [],
   "source": [
    "class SelfAttentionBlock(nn.Module):\n",
    "    def __init__(self, channels):\n",
    "        super(SelfAttentionBlock, self).__init__()\n",
    "        \n",
    "        self.attn_norm = nn.GroupNorm(num_groups=8, num_channels=channels)\n",
    "        self.mha = nn.MultiheadAttention(embed_dim=channels, num_heads=4, batch_first=True)\n",
    "        \n",
    "    def forward(self, x):\n",
    "        b, c, h, w = x.shape\n",
    "        inp_attn = x.reshape(b, c, h*w)\n",
    "        inp_attn = self.attn_norm(inp_attn)\n",
    "        inp_attn = inp_attn.transpose(1, 2)\n",
    "        out_attn, _ = self.mha(inp_attn, inp_attn, inp_attn)\n",
    "        out_attn = out_attn.transpose(1, 2).reshape(b, c, h, w)\n",
    "        return x + out_attn"
   ]
  },
  {
   "cell_type": "markdown",
   "metadata": {},
   "source": [
    "# Create DownBlock"
   ]
  },
  {
   "cell_type": "code",
   "execution_count": 11,
   "metadata": {},
   "outputs": [],
   "source": [
    "class DownBlock(nn.Module):\n",
    "    def __init__(self, inp_ch, out_ch, t_emb_dim=256):\n",
    "        super(DownBlock, self).__init__()\n",
    "        \n",
    "        self.down = nn.Sequential(\n",
    "            nn.MaxPool2d(kernel_size=2, stride=2),\n",
    "            ResBlock(inp_ch=inp_ch, out_ch=inp_ch, residual=True),\n",
    "            ResBlock(inp_ch=inp_ch, out_ch=out_ch)\n",
    "        )\n",
    "        \n",
    "        self.t_emb_layers = nn.Sequential()\n",
    "        self.t_emb_layers.add_module('silu1', nn.SiLU())\n",
    "        self.t_emb_layers.add_module('linr1', nn.Linear(in_features=t_emb_dim, out_features=out_ch))\n",
    "        \n",
    "    def forward(self, x, t):\n",
    "        x = self.down(x)\n",
    "        t_emb = self.t_emb_layers(t)[:, :, None, None].repeat(1, 1, x.shape[2], x.shape[3])\n",
    "        return x + t_emb"
   ]
  },
  {
   "cell_type": "markdown",
   "metadata": {},
   "source": [
    "# Create UpBlock"
   ]
  },
  {
   "cell_type": "code",
   "execution_count": 12,
   "metadata": {},
   "outputs": [],
   "source": [
    "class UpBlock(nn.Module):\n",
    "    def __init__(self, inp_ch, out_ch, t_emb_dim=256):\n",
    "        super(UpBlock, self).__init__()\n",
    "        \n",
    "        self.upsamp = nn.UpsamplingBilinear2d(scale_factor=2)\n",
    "        self.up = nn.Sequential(\n",
    "            ResBlock(inp_ch=inp_ch, out_ch=inp_ch, residual=True),\n",
    "            ResBlock(inp_ch=inp_ch, out_ch=out_ch, mid_ch=inp_ch//2)\n",
    "        )\n",
    "        \n",
    "        self.t_emb_layers = nn.Sequential()\n",
    "        self.t_emb_layers.add_module('silu1', nn.SiLU())\n",
    "        self.t_emb_layers.add_module('linr1', nn.Linear(in_features=t_emb_dim, out_features=out_ch))\n",
    "        \n",
    "    def forward(self, x, skip, t):\n",
    "        x = self.upsamp(x)\n",
    "        x = torch.cat([skip, x], dim=1)\n",
    "        x = self.up(x)\n",
    "        t_emb = self.t_emb_layers(t)[:, :, None, None].repeat(1, 1, x.shape[2], x.shape[3])\n",
    "        return x + t_emb"
   ]
  },
  {
   "cell_type": "markdown",
   "metadata": {},
   "source": [
    "# Create UNet"
   ]
  },
  {
   "cell_type": "code",
   "execution_count": 13,
   "metadata": {},
   "outputs": [],
   "source": [
    "class UNet(nn.Module):\n",
    "    def __init__(self, t_emb_dim, device='cuda'):\n",
    "        super(UNet, self).__init__()\n",
    "        \n",
    "        self.device = device\n",
    "        self.t_emb_dim = t_emb_dim\n",
    "        \n",
    "        self.inp = ResBlock(inp_ch=1, out_ch=64)\n",
    "        self.down1 = DownBlock(inp_ch=64, out_ch=128)\n",
    "        self.sa1 = SelfAttentionBlock(channels=128)\n",
    "        self.down2 = DownBlock(inp_ch=128, out_ch=256)\n",
    "        self.sa2 = SelfAttentionBlock(channels=256)\n",
    "        self.down3 = DownBlock(inp_ch=256, out_ch=256)\n",
    "        self.sa3 = SelfAttentionBlock(channels=256)\n",
    "        \n",
    "        self.lat1 = ResBlock(inp_ch=256, out_ch=512)\n",
    "        self.lat2 = ResBlock(inp_ch=512, out_ch=512)\n",
    "        self.lat3 = ResBlock(inp_ch=512, out_ch=256)\n",
    "        \n",
    "        self.up1 = UpBlock(inp_ch=512, out_ch=128)\n",
    "        self.sa4 = SelfAttentionBlock(channels=128)\n",
    "        self.up2 = UpBlock(inp_ch=256, out_ch=64)\n",
    "        self.sa5 = SelfAttentionBlock(channels=64)\n",
    "        self.up3 = UpBlock(inp_ch=128, out_ch=64)\n",
    "        self.sa6 = SelfAttentionBlock(channels=64)\n",
    "        \n",
    "        self.out = nn.Conv2d(in_channels=64, out_channels=1, kernel_size=1)\n",
    "        \n",
    "    def position_embeddings(self, t, channels):\n",
    "        i = 1 / (10000 ** (torch.arange(start=0, end=channels, step=2) / channels))\n",
    "        pos_emb_sin = torch.sin(t.repeat(1, channels//2) * i)\n",
    "        pos_emb_cos = torch.cos(t.repeat(1, channels//2) * i)\n",
    "        pos_emb = torch.cat([pos_emb_sin, pos_emb_cos], dim=-1)\n",
    "        return pos_emb\n",
    "    \n",
    "    def forward(self, x, t):\n",
    "        t = t.unsqueeze(1).float()\n",
    "        t = self.position_embeddings(t, self.t_emb_dim)\n",
    "        \n",
    "        x1 = self.inp(x)\n",
    "        x2 = self.down1(x1, t)\n",
    "        x2 = self.sa1(x2)\n",
    "        x3 = self.down2(x2, t)\n",
    "        x3 = self.sa2(x3)\n",
    "        x4 = self.down3(x3, t)\n",
    "        x4 = self.sa3(x4)\n",
    "        \n",
    "        x4 = self.lat1(x4)\n",
    "        x4 = self.lat2(x4)\n",
    "        x4 = self.lat3(x4)\n",
    "        \n",
    "        x = self.up1(x4, x3, t)\n",
    "        x = self.sa4(x)\n",
    "        x = self.up2(x, x2, t)\n",
    "        x = self.sa5(x)\n",
    "        x = self.up3(x, x1, t)\n",
    "        x = self.sa6(x)\n",
    "        output = self.out(x)\n",
    "        return output"
   ]
  },
  {
   "cell_type": "markdown",
   "metadata": {},
   "source": [
    "# FiLM layer for conditional training"
   ]
  },
  {
   "cell_type": "code",
   "execution_count": 14,
   "metadata": {},
   "outputs": [],
   "source": [
    "\n",
    "\n",
    "class FiLM(nn.Module):\n",
    "    def __init__(self, in_channels, embedding_dim):\n",
    "        super(FiLM, self).__init__()\n",
    "        self.gamma = nn.Linear(embedding_dim, in_channels)\n",
    "        self.beta = nn.Linear(embedding_dim, in_channels)\n",
    "\n",
    "    def forward(self, x, embedding):\n",
    "        gamma = self.gamma(embedding).unsqueeze(-1).unsqueeze(-1)\n",
    "        beta = self.beta(embedding).unsqueeze(-1).unsqueeze(-1)\n",
    "        return gamma * x + beta\n"
   ]
  },
  {
   "cell_type": "markdown",
   "metadata": {},
   "source": [
    "# Conditional Unet"
   ]
  },
  {
   "cell_type": "code",
   "execution_count": 15,
   "metadata": {},
   "outputs": [],
   "source": [
    "class CondUNet(nn.Module):\n",
    "    def __init__(self, t_emb_dim, num_classes=10, class_embedding_size=3, device='cuda'):\n",
    "        super(CondUNet, self).__init__()\n",
    "        self.device = device\n",
    "        self.t_emb_dim = t_emb_dim\n",
    "\n",
    "        # Class embedding layer\n",
    "        self.class_embedding = nn.Embedding(num_classes, class_embedding_size)\n",
    "\n",
    "        # Define your blocks\n",
    "        self.inp = ResBlock(inp_ch=1, out_ch=64)\n",
    "        self.down1 = DownBlock(inp_ch=64, out_ch=128)\n",
    "        self.sa1 = SelfAttentionBlock(channels=128)\n",
    "        self.down2 = DownBlock(inp_ch=128, out_ch=256)\n",
    "        self.sa2 = SelfAttentionBlock(channels=256)\n",
    "        self.down3 = DownBlock(inp_ch=256, out_ch=256)\n",
    "        self.sa3 = SelfAttentionBlock(channels=256)\n",
    "\n",
    "        self.lat1 = ResBlock(inp_ch=256, out_ch=512)\n",
    "        self.lat2 = ResBlock(inp_ch=512, out_ch=512)\n",
    "        self.lat3 = ResBlock(inp_ch=512, out_ch=256)\n",
    "\n",
    "        self.up1 = UpBlock(inp_ch=512, out_ch=128)\n",
    "        self.sa4 = SelfAttentionBlock(channels=128)\n",
    "        self.up2 = UpBlock(inp_ch=256, out_ch=64)\n",
    "        self.sa5 = SelfAttentionBlock(channels=64)\n",
    "        self.up3 = UpBlock(inp_ch=128, out_ch=64)\n",
    "        self.sa6 = SelfAttentionBlock(channels=64)\n",
    "\n",
    "        self.out = nn.Conv2d(in_channels=64, out_channels=1, kernel_size=1)\n",
    "\n",
    "        # FiLM layers\n",
    "        self.film1 = FiLM(in_channels=64, embedding_dim=class_embedding_size)\n",
    "        self.film2 = FiLM(in_channels=128, embedding_dim=class_embedding_size)\n",
    "        self.film3 = FiLM(in_channels=256, embedding_dim=class_embedding_size)\n",
    "        self.film4 = FiLM(in_channels=256, embedding_dim=class_embedding_size)\n",
    "        self.film5 = FiLM(in_channels=128, embedding_dim=class_embedding_size)\n",
    "        self.film6 = FiLM(in_channels=64, embedding_dim=class_embedding_size)\n",
    "\n",
    "        # Positional embedding\n",
    "        self.pos_embedding_i = 1 / (10000 ** (torch.arange(start=0, end=t_emb_dim, step=2) / t_emb_dim)).to(self.device)\n",
    "\n",
    "    def position_embeddings(self, t, channels):\n",
    "        pos_emb_sin = torch.sin(t.repeat(1, channels // 2) * self.pos_embedding_i)\n",
    "        pos_emb_cos = torch.cos(t.repeat(1, channels // 2) * self.pos_embedding_i)\n",
    "        pos_emb = torch.cat([pos_emb_sin, pos_emb_cos], dim=-1)\n",
    "        return pos_emb\n",
    "\n",
    "    def forward(self, x, label, t):\n",
    "        bs, _, w, h = x.shape\n",
    "\n",
    "        # Obtain class embedding\n",
    "        class_cond = self.class_embedding(label)\n",
    "\n",
    "        # Time embedding\n",
    "        t = t.unsqueeze(1).float()\n",
    "        t = self.position_embeddings(t, self.t_emb_dim)\n",
    "\n",
    "        # Forward pass with FiLM conditioning\n",
    "        x1 = self.inp(x)\n",
    "        x1 = self.film1(x1, class_cond)\n",
    "        x2 = self.down1(x1, t)\n",
    "        x2 = self.sa1(x2)\n",
    "        x2 = self.film2(x2, class_cond)\n",
    "        x3 = self.down2(x2, t)\n",
    "        x3 = self.sa2(x3)\n",
    "        x3 = self.film3(x3, class_cond)\n",
    "        x4 = self.down3(x3, t)\n",
    "        x4 = self.sa3(x4)\n",
    "        x4 = self.film4(x4, class_cond)\n",
    "\n",
    "        x4 = self.lat1(x4)\n",
    "        x4 = self.lat2(x4)\n",
    "        x4 = self.lat3(x4)\n",
    "\n",
    "        x = self.up1(x4, x3, t)\n",
    "        x = self.sa4(x)\n",
    "        x = self.film5(x, class_cond)\n",
    "        x = self.up2(x, x2, t)\n",
    "        x = self.sa5(x)\n",
    "        x = self.film6(x, class_cond)\n",
    "        x = self.up3(x, x1, t)\n",
    "        x = self.sa6(x)\n",
    "        output = self.out(x)\n",
    "        return output\n"
   ]
  },
  {
   "cell_type": "code",
   "execution_count": 16,
   "metadata": {},
   "outputs": [],
   "source": [
    "def initialize_weights(m):\n",
    "    if isinstance(m, nn.Conv2d) or isinstance(m, nn.ConvTranspose2d):\n",
    "        nn.init.kaiming_normal_(m.weight, mode='fan_in', nonlinearity='relu')\n",
    "        if m.bias is not None:\n",
    "            nn.init.constant_(m.bias, 0)\n",
    "    if isinstance(m, nn.Linear):\n",
    "        nn.init.xavier_normal_(m.weight)\n",
    "        if m.bias is not None:\n",
    "            nn.init.constant_(m.bias, 0)\n",
    "    elif isinstance(m, nn.MultiheadAttention):\n",
    "        # in_proj_weight and in_proj_bias contains K, V and Q weights concatenated together for weights and biases.\n",
    "        # so this initializes all the weights.\n",
    "        nn.init.xavier_normal_(m.in_proj_weight)\n",
    "        if m.in_proj_bias is not None:\n",
    "            nn.init.constant_(m.in_proj_bias, 0)\n",
    "        # The same for m.out_proj.weight an bias\n",
    "        nn.init.xavier_normal_(m.out_proj.weight)\n",
    "        if m.out_proj.bias is not None:\n",
    "            nn.init.constant_(m.out_proj.bias, 0)\n",
    "    elif isinstance(m, nn.BatchNorm2d):\n",
    "        nn.init.constant_(m.weight, 1)\n",
    "        nn.init.constant_(m.bias, 0)\n",
    "\n"
   ]
  },
  {
   "cell_type": "code",
   "execution_count": 17,
   "metadata": {},
   "outputs": [],
   "source": [
    "from torchinfo import summary\n",
    "\n",
    "# summary(CondUNet(t_emb_dim=256), input_size=[(64, 1+3, 32, 32), (64,)])\n"
   ]
  },
  {
   "cell_type": "markdown",
   "metadata": {},
   "source": [
    "# SET-UP"
   ]
  },
  {
   "cell_type": "code",
   "execution_count": 18,
   "metadata": {},
   "outputs": [],
   "source": [
    "\n",
    "ddpm = Linear_Variance_Scheduler(time_steps=1000, beta_start=0.0001, beta_end=0.02)\n",
    "model = CondUNet(t_emb_dim=256, num_classes=10, class_embedding_size=10).to(device)\n",
    "model = model.apply(initialize_weights)\n",
    "criterion = nn.MSELoss()\n",
    "optimizer = optim.Adam(model.parameters(), lr=0.0001)"
   ]
  },
  {
   "cell_type": "markdown",
   "metadata": {},
   "source": [
    "# TRAINING"
   ]
  },
  {
   "cell_type": "code",
   "execution_count": null,
   "metadata": {},
   "outputs": [
    {
     "name": "stderr",
     "output_type": "stream",
     "text": [
      " 25%|██▌       | 151/600 [00:34<01:42,  4.38it/s]"
     ]
    }
   ],
   "source": [
    "torch.manual_seed(1111)\n",
    "torch.cuda.manual_seed(1111)\n",
    "torch.cuda.manual_seed_all(1111)\n",
    "np.random.seed(1111)\n",
    "\n",
    "n_epochs = 30\n",
    "training_loss, test_loss,generated_cpu, fid_scores = [], [],  [], []\n",
    "\n",
    "for epoch in range(n_epochs):\n",
    "    average_training_loss, test_losses = 0, 0\n",
    "    \n",
    "    for data, label in tqdm(training_dataloader):\n",
    "        model.train()\n",
    "        data = data.to(device)\n",
    "        label = label.to(device)\n",
    "        t = torch.randint(low=0, high=1000, size=(data.shape[0],)).to(device)\n",
    "        noise = torch.randn_like(data)\n",
    "        xt = ddpm.diffusion_process(x=data, noise=noise, t=t)\n",
    "        pred_noise = model(xt, label,t)\n",
    "        trng_batch_loss = criterion(noise, pred_noise)\n",
    "        optimizer.zero_grad()\n",
    "        trng_batch_loss.backward()\n",
    "        optimizer.step()\n",
    "        average_training_loss += trng_batch_loss.item()\n",
    "    training_per_epoch_loss = average_training_loss / len(training_dataloader)\n",
    "    \n",
    "    model.eval()\n",
    "    with torch.inference_mode():\n",
    "        for data, label in tqdm(test_dataloader):\n",
    "            data = data.to(device)\n",
    "            label = label.to(device)\n",
    "            t = torch.randint(low=0, high=1000, size=(data.shape[0],)).to(device)\n",
    "            noise = torch.randn_like(data)\n",
    "            xt = ddpm.diffusion_process(x=data, noise=noise, t=t)\n",
    "            pred_noise = model(xt,label, t)\n",
    "            tst_batch_loss = criterion(noise, pred_noise)\n",
    "            test_losses += tst_batch_loss.item()\n",
    "        test_per_epoch_loss = test_losses / len(test_dataloader)\n",
    "\n",
    "    training_loss.append(training_per_epoch_loss)\n",
    "    test_loss.append(test_per_epoch_loss)\n",
    "    \n",
    "    print(f'Epoch: {epoch+1}/{n_epochs}\\t| Training loss: {training_per_epoch_loss:.4f} |   ', end='')\n",
    "    print(f'Test loss: {test_per_epoch_loss:.4f}')\n",
    "    \n"
   ]
  },
  {
   "cell_type": "markdown",
   "metadata": {},
   "source": [
    "# Save model"
   ]
  },
  {
   "cell_type": "code",
   "execution_count": null,
   "metadata": {},
   "outputs": [],
   "source": [
    "# Save the model\n",
    "torch.save(model.state_dict(), 'ddpm_cond_unet_w_augmentation.pth')"
   ]
  },
  {
   "cell_type": "markdown",
   "metadata": {},
   "source": [
    "# Load model"
   ]
  },
  {
   "cell_type": "code",
   "execution_count": null,
   "metadata": {},
   "outputs": [],
   "source": [
    "# model = CondUNet(t_emb_dim=256, num_classes=10, class_embedding_size=5, device='cuda')\n",
    "# # Load the saved state dictionary\n",
    "# model.load_state_dict(torch.load('ddpm_cond_unet.pth'))\n",
    "\n",
    "# # Set the model to evaluation mode\n",
    "# model.eval()"
   ]
  },
  {
   "cell_type": "markdown",
   "metadata": {},
   "source": [
    "# Plot losses"
   ]
  },
  {
   "cell_type": "markdown",
   "metadata": {},
   "source": [
    "# Reverse process"
   ]
  },
  {
   "cell_type": "code",
   "execution_count": null,
   "metadata": {},
   "outputs": [
    {
     "name": "stderr",
     "output_type": "stream",
     "text": [
      "1000it [00:06, 146.84it/s]\n"
     ]
    }
   ],
   "source": [
    "steps = [999, 900, 800, 700, 600, 500, 400, 300, 200, 100, 1]\n",
    "\n",
    "\n",
    "ddpm = Linear_Variance_Scheduler(time_steps=1000, beta_start=0.0001, beta_end=0.02, device='cuda')\n",
    "model = model.to('cuda')\n",
    "_, collect = ddpm.ddpm_sampling(\n",
    "    model=model, \n",
    "    num_samples=1,\n",
    "    sample_steps=steps, \n",
    "    channels=1, \n",
    "    img_size=32, \n",
    "    wanted_class=torch.tensor([2], device='cuda'))\n"
   ]
  },
  {
   "cell_type": "code",
   "execution_count": null,
   "metadata": {},
   "outputs": [
    {
     "data": {
      "image/png": "[encoded data removed]",
      "text/plain": [
       "<Figure size 2200x200 with 11 Axes>"
      ]
     },
     "metadata": {},
     "output_type": "display_data"
    }
   ],
   "source": [
    "fig, axis = plt.subplots(nrows=1, ncols=11, figsize=(22, 2))\n",
    "\n",
    "j = 0\n",
    "for ax, s in zip(axis.ravel(), steps):\n",
    "    ax.imshow(collect[s][0].detach().cpu().permute(1, 2, 0), cmap='gray')\n",
    "    ax.set_title(f'Time step: {s}', fontweight='bold')\n",
    "    ax.axis(False)\n",
    "    j += 1"
   ]
  },
  {
   "cell_type": "markdown",
   "metadata": {},
   "source": [
    "# Random sampling from noise"
   ]
  },
  {
   "cell_type": "code",
   "execution_count": null,
   "metadata": {},
   "outputs": [],
   "source": [
    "sampled_imgs, _ = ddpm.ddpm_sampling(model=model, num_samples=64, channels=1, img_size=32)\n",
    "\n"
   ]
  },
  {
   "cell_type": "code",
   "execution_count": null,
   "metadata": {},
   "outputs": [],
   "source": [
    "grid = make_grid(sampled_imgs.detach().cpu(), nrow=16, normalize=True)\n",
    "plt.figure(figsize=(12, 2))\n",
    "plt.imshow(grid.permute(1, 2, 0), cmap='gray')\n",
    "plt.axis(False)"
   ]
  },
  {
   "cell_type": "markdown",
   "metadata": {},
   "source": [
    "**TODO**\n",
    "## EVALUATION"
   ]
  },
  {
   "cell_type": "markdown",
   "metadata": {},
   "source": []
  },
  {
   "cell_type": "markdown",
   "metadata": {},
   "source": [
    "### 1st METHOD FID WITH IMPORTED LIBRARY"
   ]
  },
  {
   "cell_type": "code",
   "execution_count": null,
   "metadata": {},
   "outputs": [],
   "source": [
    "# Import necessary libraries\n",
    "import torch.nn.functional as F\n",
    "from torchmetrics.image.fid import FrechetInceptionDistance\n",
    "\n",
    "# Set the number of images to use for FID computation\n",
    "N = 10000  # Increase this number for a more accurate FID score\n",
    "\n",
    "# Generate N sampled images using your diffusion model\n",
    "\n",
    "\n",
    "# De-normalize generated images to [0,1] and convert to uint8\n",
    "sampled_imgs = torch.clamp(sampled_imgs, -1.0, 1.0)\n",
    "sampled_imgs_denorm = (sampled_imgs + 1) / 2  # Now in [0,1]\n",
    "sampled_imgs_denorm = sampled_imgs_denorm * 255  # Now in [0,255]\n",
    "sampled_imgs_uint8 = sampled_imgs_denorm.to(torch.uint8)\n",
    "\n",
    "# Repeat channels to get 3-channel images\n",
    "sampled_imgs_rgb = sampled_imgs_uint8.repeat(1, 3, 1, 1)  # Shape: (N, 3, 32, 32)\n",
    "\n",
    "# Resize images to 299x299 (required by InceptionV3)\n",
    "sampled_imgs_resized = F.interpolate(sampled_imgs_rgb.float(), size=(299, 299), mode='bilinear', align_corners=False)\n",
    "sampled_imgs_resized = sampled_imgs_resized.to(torch.uint8)\n",
    "\n",
    "# Get N real images from the test dataset\n",
    "real_images = []\n",
    "for idx in range(N):\n",
    "    img, _ = test_dataset[idx]\n",
    "    real_images.append(img)\n",
    "real_images = torch.stack(real_images)  # Shape: (N, 1, 32, 32)\n",
    "\n",
    "# De-normalize real images to [0,1] and convert to uint8\n",
    "real_images_denorm = real_images * 0.5 + 0.5  # Now in [0,1]\n",
    "real_images_denorm = real_images_denorm * 255  # Now in [0,255]\n",
    "real_images_uint8 = real_images_denorm.to(torch.uint8)\n",
    "\n",
    "# Repeat channels to get 3-channel images\n",
    "real_images_rgb = real_images_uint8.repeat(1, 3, 1, 1)\n",
    "\n",
    "# Resize images to 299x299\n",
    "real_images_resized = F.interpolate(real_images_rgb.float(), size=(299, 299), mode='bilinear', align_corners=False)\n",
    "real_images_resized = real_images_resized.to(torch.uint8)\n",
    "\n",
    "# Initialize the FID metric\n",
    "fid = FrechetInceptionDistance(feature=2048, normalize=False).to(device)\n",
    "\n",
    "# Compute FID: Feed real images\n",
    "batch_size = 64\n",
    "for i in range(0, real_images_resized.size(0), batch_size):\n",
    "    real_batch = real_images_resized[i:i+batch_size].to(device)\n",
    "    fid.update(real_batch, real=True)\n",
    "\n",
    "# Compute FID: Feed generated images\n",
    "for i in range(0, sampled_imgs_resized.size(0), batch_size):\n",
    "    fake_batch = sampled_imgs_resized[i:i+batch_size].to(device)\n",
    "    fid.update(fake_batch, real=False)\n",
    "\n",
    "# Compute and print the FID score\n",
    "fid_score = fid.compute()\n",
    "print(f'FID score: {fid_score}')\n"
   ]
  },
  {
   "cell_type": "code",
   "execution_count": null,
   "metadata": {},
   "outputs": [],
   "source": [
    "# Visualize a grid of generated images\n",
    "grid_fake = make_grid(sampled_imgs_resized[:64].float() / 255, nrow=8, normalize=True)\n",
    "grid_fake = grid_fake.permute(1, 2, 0).cpu()  # Move to CPU and permute dimensions\n",
    "plt.figure(figsize=(8, 8))\n",
    "plt.imshow(grid_fake)\n",
    "plt.title('Generated Images')\n",
    "plt.axis('off')\n",
    "plt.show()\n",
    "\n",
    "# Visualize a grid of real images\n",
    "grid_real = make_grid(real_images_resized[:64].float() / 255, nrow=8, normalize=True)\n",
    "grid_real = grid_real.permute(1, 2, 0).cpu()\n",
    "plt.figure(figsize=(8, 8))\n",
    "plt.imshow(grid_real)\n",
    "plt.title('Real Images')\n",
    "plt.axis('off')\n",
    "plt.show()\n"
   ]
  },
  {
   "cell_type": "markdown",
   "metadata": {},
   "source": [
    "### SECOND METHOD: TA suggestion\n",
    "\n",
    "1. Feature Extraction Using a Pre-trained Classifier, to extract meaningful features from images to compare them effectively\n",
    "2. Compute Features for Real Images\n",
    "3. Compute Features for Generated Images with the same classifier\n",
    "4. Calculate Statistics of Features: mean and covariance for generated and real images\n",
    "5. Compute the FID Score\n",
    "\n",
    "You compute the FID score by extracting features from both real and generated images using a classifier, calculating statistical summaries (mean and covariance) of these features, and then applying the FID formula to quantify the similarity between the two sets of images. This method allows you to evaluate how closely your model's generated images resemble real images in terms of high-level features captured by the classifier."
   ]
  },
  {
   "cell_type": "code",
   "execution_count": null,
   "metadata": {},
   "outputs": [],
   "source": [
    "class MNISTFeatureExtractor(torch.nn.Module):\n",
    "    def __init__(self):\n",
    "        super(MNISTFeatureExtractor, self).__init__()\n",
    "        # Define a simple CNN suitable for MNIST\n",
    "        self.features = torch.nn.Sequential(\n",
    "            torch.nn.Conv2d(1, 32, kernel_size=3, stride=1, padding=1),\n",
    "            torch.nn.ReLU(),\n",
    "            torch.nn.MaxPool2d(2),  # 14x14\n",
    "            torch.nn.Conv2d(32, 64, kernel_size=3, stride=1, padding=1),\n",
    "            torch.nn.ReLU(),\n",
    "            torch.nn.MaxPool2d(2),  # 7x7\n",
    "        )\n",
    "        self.classifier = torch.nn.Sequential(\n",
    "            torch.nn.Flatten(),\n",
    "            torch.nn.Linear(64 * 7 * 7, 128),\n",
    "            torch.nn.ReLU(),\n",
    "            torch.nn.Linear(128, 10),\n",
    "        )\n",
    "        \n",
    "    def forward(self, x):\n",
    "        x = self.features(x)\n",
    "        x_flat = x.view(x.size(0), -1)\n",
    "        logits = self.classifier(x_flat)\n",
    "        return logits, x_flat  # Return logits and features\n"
   ]
  },
  {
   "cell_type": "code",
   "execution_count": null,
   "metadata": {},
   "outputs": [],
   "source": [
    "def train_mnist_classifier():\n",
    "    # Define transformations\n",
    "    transform = transforms.Compose([\n",
    "        transforms.ToTensor(),\n",
    "    ])\n",
    "    # Load MNIST dataset\n",
    "    train_dataset = datasets.MNIST(root='./data_src', train=True, download=True, transform=transform)\n",
    "\n",
    "    training_dataloader = DataLoader(train_dataset, batch_size=32, shuffle=True, drop_last=True)\n",
    "\n",
    "\n",
    "    # Initialize the model, loss function, and optimizer\n",
    "    model = MNISTFeatureExtractor().to(device)\n",
    "    criterion = torch.nn.CrossEntropyLoss()\n",
    "    optimizer = torch.optim.Adam(model.parameters(), lr=0.001)\n",
    "\n",
    "    # Training loop\n",
    "    model.train()\n",
    "    for epoch in range(5):\n",
    "        total_loss = 0\n",
    "        for images, labels in tqdm(training_dataloader):\n",
    "            images, labels = images.to(device), labels.to(device)\n",
    "            optimizer.zero_grad()\n",
    "            outputs, _ = model(images)\n",
    "            loss = criterion(outputs, labels)\n",
    "            loss.backward()\n",
    "            optimizer.step()\n",
    "            total_loss += loss.item()\n",
    "        print(f\"Epoch {epoch+1}, Loss: {total_loss / len(training_dataloader)}\")\n",
    "    return model\n",
    "device = 'cuda' if torch.cuda.is_available() else 'cpu'\n",
    "mnist_classifier = train_mnist_classifier()\n"
   ]
  },
  {
   "cell_type": "code",
   "execution_count": null,
   "metadata": {},
   "outputs": [],
   "source": [
    "def load_mnist_real_images():\n",
    "    transform = transforms.Compose([\n",
    "        transforms.ToTensor(),\n",
    "    ])\n",
    "    test_dataset = datasets.MNIST(root='./data_src', train=False, download=True, transform=transform)\n",
    "    test_dataloader = DataLoader(test_dataset, batch_size=32, shuffle=False, drop_last=True)\n",
    "    return test_dataloader\n"
   ]
  },
  {
   "cell_type": "code",
   "execution_count": null,
   "metadata": {},
   "outputs": [],
   "source": [
    "def compute_real_activations(model, dataloader):\n",
    "    activations = []\n",
    "    with torch.no_grad():\n",
    "        for images, _ in tqdm(dataloader):\n",
    "            images = images.to(device)\n",
    "            _, features = model(images)\n",
    "            activations.append(features.cpu().numpy())\n",
    "    activations = np.concatenate(activations, axis=0)\n",
    "    return activations\n"
   ]
  },
  {
   "cell_type": "code",
   "execution_count": null,
   "metadata": {},
   "outputs": [],
   "source": [
    "real_dataloader = load_mnist_real_images()\n",
    "real_activations = compute_real_activations(mnist_classifier, real_dataloader)\n"
   ]
  },
  {
   "cell_type": "code",
   "execution_count": null,
   "metadata": {},
   "outputs": [],
   "source": [
    "# Assuming sampled_imgs is of shape [N, 1, 32, 32]\n",
    "# Resize images to 28x28 if necessary\n",
    "generated_imgs_resized = F.interpolate(sampled_imgs, size=(28, 28), mode='bilinear', align_corners=False)\n",
    "print(sampled_imgs.shape)\n"
   ]
  },
  {
   "cell_type": "code",
   "execution_count": null,
   "metadata": {},
   "outputs": [],
   "source": [
    "def compute_fake_activations(model, images):\n",
    "    model.eval()\n",
    "    activations = []\n",
    "    with torch.no_grad():\n",
    "        batch_size = 64\n",
    "        for i in tqdm(range(0, images.size(0), batch_size)):\n",
    "            batch_images = images[i:i+batch_size].to(device)\n",
    "            # Ensure images are in [0,1]\n",
    "            batch_images = torch.clamp(batch_images, -1, 1)\n",
    "            batch_images = (batch_images + 1) / 2  # Convert from [-1,1] to [0,1]\n",
    "            _, features = model(batch_images)\n",
    "            activations.append(features.cpu().numpy())\n",
    "    activations = np.concatenate(activations, axis=0)\n",
    "    return activations\n"
   ]
  },
  {
   "cell_type": "code",
   "execution_count": null,
   "metadata": {},
   "outputs": [],
   "source": [
    "fake_activations = compute_fake_activations(mnist_classifier, generated_imgs_resized)\n"
   ]
  },
  {
   "cell_type": "code",
   "execution_count": null,
   "metadata": {},
   "outputs": [],
   "source": [
    "def compute_statistics(activations):\n",
    "    mu = np.mean(activations, axis=0)\n",
    "    sigma = np.cov(activations, rowvar=False)\n",
    "    return mu, sigma\n"
   ]
  },
  {
   "cell_type": "code",
   "execution_count": null,
   "metadata": {},
   "outputs": [],
   "source": [
    "mu_real, sigma_real = compute_statistics(real_activations)\n",
    "mu_fake, sigma_fake = compute_statistics(fake_activations)\n"
   ]
  },
  {
   "cell_type": "code",
   "execution_count": null,
   "metadata": {},
   "outputs": [],
   "source": [
    "from scipy import linalg\n",
    "def calculate_frechet_distance(mu1, sigma1, mu2, sigma2, eps=1e-6):\n",
    "    \"\"\"Numpy implementation of the Frechet Distance.\"\"\"\n",
    "    diff = mu1 - mu2\n",
    "\n",
    "    # Product might be almost singular\n",
    "    covmean, _ = linalg.sqrtm(sigma1 @ sigma2, disp=False)\n",
    "    if not np.isfinite(covmean).all():\n",
    "        print(\"fid calculation produces singular product; adding %s to diagonal of cov estimates\" % eps)\n",
    "        offset = np.eye(sigma1.shape[0]) * eps\n",
    "        covmean = linalg.sqrtm((sigma1 + offset) @ (sigma2 + offset))\n",
    "\n",
    "    # Numerical error might give slight imaginary component\n",
    "    if np.iscomplexobj(covmean):\n",
    "        covmean = covmean.real\n",
    "\n",
    "    tr_covmean = np.trace(covmean)\n",
    "\n",
    "    fid_score = diff @ diff + np.trace(sigma1) + np.trace(sigma2) - 2 * tr_covmean\n",
    "    return fid_score\n"
   ]
  },
  {
   "cell_type": "code",
   "execution_count": null,
   "metadata": {},
   "outputs": [],
   "source": [
    "fid_value = calculate_frechet_distance(mu_real, sigma_real, mu_fake, sigma_fake)\n",
    "print(f\"FID score: {fid_value}\")\n"
   ]
  },
  {
   "cell_type": "code",
   "execution_count": null,
   "metadata": {},
   "outputs": [],
   "source": [
    "from torchvision.utils import make_grid\n",
    "\n",
    "# Convert images to [0,1] range for visualization\n",
    "generated_imgs_vis = torch.clamp(generated_imgs_resized, 0, 1)\n",
    "grid_fake = make_grid(generated_imgs_vis[:64], nrow=8, normalize=True)\n",
    "plt.figure(figsize=(8, 8))\n",
    "plt.imshow(grid_fake.permute(1, 2, 0).cpu().numpy())\n",
    "plt.title('Generated Images')\n",
    "plt.axis('off')\n",
    "plt.show()\n",
    "\n",
    "# Get a batch of real images\n",
    "real_images, _ = next(iter(real_dataloader))\n",
    "real_images = real_images.to(device)\n",
    "\n",
    "grid_real = make_grid(real_images[:64], nrow=8, normalize=True)\n",
    "plt.figure(figsize=(8, 8))\n",
    "plt.imshow(grid_real.permute(1, 2, 0).cpu().numpy())\n",
    "plt.title('Real Images')\n",
    "plt.axis('off')\n",
    "plt.show()\n",
    "\n"
   ]
  },
  {
   "cell_type": "markdown",
   "metadata": {},
   "source": [
    "###  THIRD METHOD\n",
    "\n",
    "It measures how similar the generated images are to real images by comparing their feature distributions extracted from a pre-trained neural network (InceptionV3). How ? \n",
    "\n",
    "1. Collect Real Images\n",
    "2. Preprocess Images: Both real and generated images are resized to 299x299 pixels because InceptionV3 expects this input size. Convert to RGB,Normalize.\n",
    "3. Extract Features Using InceptionV3\n",
    "4. Compute Statistics of Activations for the real images and for the generated images: mean and covariance\n",
    "5. Calculate the Fréchet Distance (FID Score)\n",
    "\n",
    "##### Why This Method Works:\n",
    "**Feature Comparison**: Instead of comparing images pixel by pixel, which doesn't capture high-level similarities, we compare the statistical properties of features extracted by a deep network trained on a large dataset.\n",
    "**Capturing Perceptual Differences**: The InceptionV3 model's features capture important aspects of images that are relevant to human perception, making FID a good proxy for visual quality."
   ]
  },
  {
   "cell_type": "code",
   "execution_count": null,
   "metadata": {},
   "outputs": [],
   "source": [
    "N = 10000\n",
    "test_dataset_no_transform = datasets.MNIST(\n",
    "    root='./data_src', train=False, download=True, transform=None\n",
    ")\n",
    "\n",
    "indices = list(range(N))"
   ]
  },
  {
   "cell_type": "code",
   "execution_count": null,
   "metadata": {},
   "outputs": [],
   "source": [
    "def preprocess_image(image):\n",
    "    image = image.clamp(0, 1)  # Ensure pixel values are in [0, 1]\n",
    "    image = transforms.ToPILImage()(image)\n",
    "    image = transforms.Resize((299, 299))(image)\n",
    "    image = transforms.ToTensor()(image)\n",
    "    image = image.repeat(3, 1, 1)  # Convert grayscale to RGB by repeating channels\n",
    "    image = transforms.Normalize(\n",
    "        mean=[0.485, 0.456, 0.406], \n",
    "        std=[0.229, 0.224, 0.225]\n",
    "    )(image)\n",
    "    return image"
   ]
  },
  {
   "cell_type": "code",
   "execution_count": null,
   "metadata": {},
   "outputs": [],
   "source": [
    "class GeneratedImagesDataset(torch.utils.data.Dataset):\n",
    "    def __init__(self, images):\n",
    "        self.images = images  # Tensor of shape (N, 1, 32, 32)\n",
    "        \n",
    "    def __len__(self):\n",
    "        return self.images.shape[0]\n",
    "    \n",
    "    def __getitem__(self, idx):\n",
    "        img = self.images[idx]\n",
    "        img = (img + 1) / 2  # Scale from [-1, 1] to [0, 1]\n",
    "        img = preprocess_image(img)\n",
    "        return img"
   ]
  },
  {
   "cell_type": "code",
   "execution_count": null,
   "metadata": {},
   "outputs": [],
   "source": [
    "generated_dataset = GeneratedImagesDataset(sampled_imgs)\n",
    "generated_dataloader = DataLoader(generated_dataset, batch_size=64, shuffle=False)"
   ]
  },
  {
   "cell_type": "code",
   "execution_count": null,
   "metadata": {},
   "outputs": [],
   "source": [
    "class RealImagesDataset(torch.utils.data.Dataset):\n",
    "    def __init__(self, base_dataset, indices):\n",
    "        self.base_dataset = base_dataset  # MNIST dataset without transforms\n",
    "        self.indices = indices  # Indices of images to include\n",
    "        \n",
    "    def __len__(self):\n",
    "        return len(self.indices)\n",
    "    \n",
    "    def __getitem__(self, idx):\n",
    "        base_idx = self.indices[idx]\n",
    "        img_pil, _ = self.base_dataset[base_idx]\n",
    "        img = transforms.ToTensor()(img_pil)  # Convert PIL image to tensor in [0, 1]\n",
    "        img = preprocess_image(img)\n",
    "        return img"
   ]
  },
  {
   "cell_type": "code",
   "execution_count": null,
   "metadata": {},
   "outputs": [],
   "source": [
    "real_dataset = RealImagesDataset(test_dataset_no_transform, indices)\n",
    "real_dataloader = DataLoader(real_dataset, batch_size=64, shuffle=False)"
   ]
  },
  {
   "cell_type": "code",
   "execution_count": null,
   "metadata": {},
   "outputs": [],
   "source": [
    "import torchvision.models as models\n",
    "from torchvision.models.inception import Inception_V3_Weights\n",
    "\n",
    "model_inception = models.inception_v3(weights=Inception_V3_Weights.IMAGENET1K_V1)\n",
    "model_inception.fc = nn.Identity()  # Remove the final classification layer\n",
    "model_inception.to(device)\n",
    "model_inception.eval()"
   ]
  },
  {
   "cell_type": "code",
   "execution_count": null,
   "metadata": {},
   "outputs": [],
   "source": [
    "def get_activation(dataloader, model, device='cpu'):\n",
    "    \"\"\"\n",
    "    Given a dataloader and a model, generate an N x 2048-dimensional\n",
    "    activation map for N data points in the dataloader.\n",
    "    \"\"\"\n",
    "    model.to(device)\n",
    "    model.eval()\n",
    "    \n",
    "    # Store activations\n",
    "    pred_arr = np.zeros((len(dataloader.dataset), 2048))\n",
    "    \n",
    "    batch_size = dataloader.batch_size\n",
    "    \n",
    "    with torch.no_grad():\n",
    "        for i, batch in enumerate(tqdm(dataloader)):\n",
    "            batch = batch.to(device)\n",
    "            pred = model(batch).cpu().numpy()\n",
    "            start_idx = i * batch_size\n",
    "            end_idx = start_idx + batch.shape[0]\n",
    "            pred_arr[start_idx:end_idx] = pred\n",
    "            \n",
    "    return pred_arr"
   ]
  },
  {
   "cell_type": "code",
   "execution_count": null,
   "metadata": {},
   "outputs": [],
   "source": [
    "def calculate_activation_statistics(dataloader, model, device='cpu'):\n",
    "    \"\"\"\n",
    "    Get the mean vector and covariance matrix of the activation maps.\n",
    "    \"\"\"\n",
    "    act = get_activation(dataloader, model, device)\n",
    "    mu = np.mean(act, axis=0)\n",
    "    sigma = np.cov(act, rowvar=False)\n",
    "    return mu, sigma"
   ]
  },
  {
   "cell_type": "code",
   "execution_count": null,
   "metadata": {},
   "outputs": [],
   "source": [
    "from scipy import linalg\n",
    "\n",
    "def calculate_frechet_distance(mu1, sigma1, mu2, sigma2, eps=1e-6):\n",
    "    \"\"\"\n",
    "    Given means and covariance matrices of real and generated data,\n",
    "    calculates the Fréchet Distance (FID score) between them.\n",
    "    \"\"\"\n",
    "    mu1 = np.atleast_1d(mu1)\n",
    "    mu2 = np.atleast_1d(mu2)\n",
    "    \n",
    "    sigma1 = np.atleast_2d(sigma1)\n",
    "    sigma2 = np.atleast_2d(sigma2)\n",
    "    \n",
    "    diff = mu1 - mu2\n",
    "    \n",
    "    covmean, _ = linalg.sqrtm(sigma1.dot(sigma2), disp=False)\n",
    "    \n",
    "    # Handle singularities\n",
    "    if not np.isfinite(covmean).all():\n",
    "        print(\"Adding epsilon to diagonal of covariance matrices to avoid singularities.\")\n",
    "        offset = np.eye(sigma1.shape[0]) * eps\n",
    "        covmean = linalg.sqrtm((sigma1 + offset).dot(sigma2 + offset))\n",
    "    \n",
    "    # Check for imaginary numbers\n",
    "    if np.iscomplexobj(covmean):\n",
    "        covmean = covmean.real\n",
    "    \n",
    "    tr_covmean = np.trace(covmean)\n",
    "    \n",
    "    fid = diff.dot(diff) + np.trace(sigma1) + np.trace(sigma2) - 2 * tr_covmean\n",
    "    return fid"
   ]
  },
  {
   "cell_type": "code",
   "execution_count": null,
   "metadata": {},
   "outputs": [],
   "source": [
    "mu_gen, sigma_gen = calculate_activation_statistics(\n",
    "    generated_dataloader, model_inception, device=device\n",
    ")"
   ]
  },
  {
   "cell_type": "code",
   "execution_count": null,
   "metadata": {},
   "outputs": [],
   "source": [
    "mu_real, sigma_real = calculate_activation_statistics(\n",
    "    real_dataloader, model_inception, device=device\n",
    ")"
   ]
  },
  {
   "cell_type": "code",
   "execution_count": null,
   "metadata": {},
   "outputs": [],
   "source": [
    "fid_value = calculate_frechet_distance(mu_gen, sigma_gen, mu_real, sigma_real)\n",
    "print(f'FID Score: {fid_value}')"
   ]
  },
  {
   "cell_type": "code",
   "execution_count": null,
   "metadata": {},
   "outputs": [],
   "source": [
    "# Convert images to [0, 1] range for visualization\n",
    "sampled_imgs_0_1 = (sampled_imgs + 1) / 2\n",
    "grid = make_grid(sampled_imgs_0_1[:64], nrow=8)\n",
    "\n",
    "plt.figure(figsize=(8, 8))\n",
    "plt.imshow(grid.permute(1, 2, 0).cpu().numpy())\n",
    "plt.title('Generated Images')\n",
    "plt.axis('off')\n",
    "plt.show()\n",
    "\n",
    "real_images = []\n",
    "for idx in range(64):\n",
    "    img_pil, _ = test_dataset_no_transform[indices[idx]]\n",
    "    img_tensor = transforms.ToTensor()(img_pil)\n",
    "    real_images.append(img_tensor)\n",
    "\n",
    "real_images = torch.stack(real_images)\n",
    "grid_real = make_grid(real_images, nrow=8)\n",
    "\n",
    "plt.figure(figsize=(8, 8))\n",
    "plt.imshow(grid_real.permute(1, 2, 0).cpu().numpy())\n",
    "plt.title('Real Images')\n",
    "plt.axis('off')\n",
    "plt.show()"
   ]
  }
 ],
 "metadata": {
  "kernelspec": {
   "display_name": "test-environment",
   "language": "python",
   "name": "python3"
  },
  "language_info": {
   "codemirror_mode": {
    "name": "ipython",
    "version": 3
   },
   "file_extension": ".py",
   "mimetype": "text/x-python",
   "name": "python",
   "nbconvert_exporter": "python",
   "pygments_lexer": "ipython3",
   "version": "3.9.18"
  }
 },
 "nbformat": 4,
 "nbformat_minor": 2
}
